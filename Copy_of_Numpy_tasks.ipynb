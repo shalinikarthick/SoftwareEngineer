{
  "cells": [
    {
      "cell_type": "markdown",
      "metadata": {
        "id": "view-in-github",
        "colab_type": "text"
      },
      "source": [
        "<a href=\"https://colab.research.google.com/github/shalinikarthick/shalinikarthick/blob/main/Copy_of_Numpy_tasks.ipynb\" target=\"_parent\"><img src=\"https://colab.research.google.com/assets/colab-badge.svg\" alt=\"Open In Colab\"/></a>"
      ]
    },
    {
      "cell_type": "markdown",
      "metadata": {
        "id": "XC1CYntyBq5y"
      },
      "source": [
        "# Numpy\n",
        "\n"
      ]
    },
    {
      "cell_type": "markdown",
      "metadata": {
        "id": "Es0MjBVTBq55"
      },
      "source": [
        "#### 1. Import the numpy package under the name `np` (★☆☆) \n",
        "(**hint**: import … as …)"
      ]
    },
    {
      "cell_type": "code",
      "execution_count": null,
      "metadata": {
        "collapsed": true,
        "id": "ouxC2nscBq57"
      },
      "outputs": [],
      "source": [
        "import numpy as np"
      ]
    },
    {
      "cell_type": "markdown",
      "metadata": {
        "id": "tRZj_cgTBq58"
      },
      "source": [
        "#### 2. Print the numpy version and the configuration (★☆☆) \n",
        "(**hint**: np.\\_\\_version\\_\\_, np.show\\_config)"
      ]
    },
    {
      "cell_type": "code",
      "execution_count": null,
      "metadata": {
        "id": "OZXnA-aBBq59"
      },
      "outputs": [],
      "source": [
        "print(np.__version__)\n",
        "np.show_config()"
      ]
    },
    {
      "cell_type": "markdown",
      "metadata": {
        "id": "b1tHV7usBq59"
      },
      "source": [
        "#### 3. Create a null vector of size 10 (★☆☆) \n",
        "(**hint**: np.zeros)"
      ]
    },
    {
      "cell_type": "code",
      "execution_count": null,
      "metadata": {
        "id": "iiQdAk9pBq5_",
        "colab": {
          "base_uri": "https://localhost:8080/"
        },
        "outputId": "c5df5027-792a-440d-9142-aafc47e4a6cc"
      },
      "outputs": [
        {
          "output_type": "stream",
          "name": "stdout",
          "text": [
            "[0. 0. 0. 0. 0. 0. 0. 0. 0. 0.]\n"
          ]
        }
      ],
      "source": [
        "a = np.zeros(10)\n",
        "print(a)"
      ]
    },
    {
      "cell_type": "markdown",
      "metadata": {
        "id": "f8ImjGzjBq6A"
      },
      "source": [
        "#### 4.  How to find the memory size of any array (★☆☆) \n",
        "(**hint**: size, itemsize)"
      ]
    },
    {
      "cell_type": "code",
      "execution_count": null,
      "metadata": {
        "id": "RWXzWhApBq6A",
        "colab": {
          "base_uri": "https://localhost:8080/"
        },
        "outputId": "9ceb0c64-1811-493b-a367-9c1864600b80"
      },
      "outputs": [
        {
          "output_type": "stream",
          "name": "stdout",
          "text": [
            "800 bytes\n"
          ]
        }
      ],
      "source": [
        "a = np.zeros((10,10))\n",
        "print(\"%d bytes\" % (a.size * a.itemsize))"
      ]
    },
    {
      "cell_type": "markdown",
      "metadata": {
        "id": "NBmnV8sSBq6B"
      },
      "source": [
        "#### 5.  How to get the documentation of the numpy add function from the command line? (★☆☆) \n",
        "(**hint**: np.info)"
      ]
    },
    {
      "cell_type": "code",
      "execution_count": null,
      "metadata": {
        "collapsed": true,
        "id": "61ouzG_ZBq6C",
        "colab": {
          "base_uri": "https://localhost:8080/"
        },
        "outputId": "b72c1d9e-6750-4289-c4b1-a077e12bfe80"
      },
      "outputs": [
        {
          "output_type": "stream",
          "name": "stdout",
          "text": [
            "add(x1, x2, /, out=None, *, where=True, casting='same_kind', order='K', dtype=None, subok=True[, signature, extobj])\n",
            "\n",
            "Add arguments element-wise.\n",
            "\n",
            "Parameters\n",
            "----------\n",
            "x1, x2 : array_like\n",
            "    The arrays to be added.\n",
            "    If ``x1.shape != x2.shape``, they must be broadcastable to a common\n",
            "    shape (which becomes the shape of the output).\n",
            "out : ndarray, None, or tuple of ndarray and None, optional\n",
            "    A location into which the result is stored. If provided, it must have\n",
            "    a shape that the inputs broadcast to. If not provided or None,\n",
            "    a freshly-allocated array is returned. A tuple (possible only as a\n",
            "    keyword argument) must have length equal to the number of outputs.\n",
            "where : array_like, optional\n",
            "    This condition is broadcast over the input. At locations where the\n",
            "    condition is True, the `out` array will be set to the ufunc result.\n",
            "    Elsewhere, the `out` array will retain its original value.\n",
            "    Note that if an uninitialized `out` array is created via the default\n",
            "    ``out=None``, locations within it where the condition is False will\n",
            "    remain uninitialized.\n",
            "**kwargs\n",
            "    For other keyword-only arguments, see the\n",
            "    :ref:`ufunc docs <ufuncs.kwargs>`.\n",
            "\n",
            "Returns\n",
            "-------\n",
            "add : ndarray or scalar\n",
            "    The sum of `x1` and `x2`, element-wise.\n",
            "    This is a scalar if both `x1` and `x2` are scalars.\n",
            "\n",
            "Notes\n",
            "-----\n",
            "Equivalent to `x1` + `x2` in terms of array broadcasting.\n",
            "\n",
            "Examples\n",
            "--------\n",
            ">>> np.add(1.0, 4.0)\n",
            "5.0\n",
            ">>> x1 = np.arange(9.0).reshape((3, 3))\n",
            ">>> x2 = np.arange(3.0)\n",
            ">>> np.add(x1, x2)\n",
            "array([[  0.,   2.,   4.],\n",
            "       [  3.,   5.,   7.],\n",
            "       [  6.,   8.,  10.]])\n",
            "\n",
            "The ``+`` operator can be used as a shorthand for ``np.add`` on ndarrays.\n",
            "\n",
            ">>> x1 = np.arange(9.0).reshape((3, 3))\n",
            ">>> x2 = np.arange(3.0)\n",
            ">>> x1 + x2\n",
            "array([[ 0.,  2.,  4.],\n",
            "       [ 3.,  5.,  7.],\n",
            "       [ 6.,  8., 10.]])\n"
          ]
        }
      ],
      "source": [
        "import numpy as np\n",
        "np.info(np.add)"
      ]
    },
    {
      "cell_type": "markdown",
      "metadata": {
        "id": "DeGhQ8RmBq6C"
      },
      "source": [
        "#### 6.  Create a null vector of size 10 but the fifth value which is 1 (★☆☆) \n",
        "(**hint**: array\\[4\\])"
      ]
    },
    {
      "cell_type": "code",
      "execution_count": null,
      "metadata": {
        "id": "yXJoaHNxBq6D",
        "colab": {
          "base_uri": "https://localhost:8080/"
        },
        "outputId": "8961e461-2680-49ba-f447-f180080e526b"
      },
      "outputs": [
        {
          "output_type": "stream",
          "name": "stdout",
          "text": [
            "[0. 0. 0. 0. 1. 0. 0. 0. 0. 0.]\n"
          ]
        }
      ],
      "source": [
        "a = np.zeros(10)\n",
        "a[4] = 1\n",
        "print(a)"
      ]
    },
    {
      "cell_type": "markdown",
      "metadata": {
        "id": "VA6SXpiWBq6D"
      },
      "source": [
        "#### 7.  Create a vector with values ranging from 10 to 49 (★☆☆) \n",
        "(**hint**: np.arange)"
      ]
    },
    {
      "cell_type": "code",
      "execution_count": null,
      "metadata": {
        "id": "KS2hiYfsBq6D",
        "colab": {
          "base_uri": "https://localhost:8080/"
        },
        "outputId": "41e56894-4801-4dbe-9105-f51333563d18"
      },
      "outputs": [
        {
          "output_type": "stream",
          "name": "stdout",
          "text": [
            "[10 11 12 13 14 15 16 17 18 19 20 21 22 23 24 25 26 27 28 29 30 31 32 33\n",
            " 34 35 36 37 38 39 40 41 42 43 44 45 46 47 48 49]\n"
          ]
        }
      ],
      "source": [
        "a = np.arange(10,50)\n",
        "print(a)"
      ]
    },
    {
      "cell_type": "markdown",
      "metadata": {
        "id": "MelXrDqkBq6E"
      },
      "source": [
        "#### 8.  Reverse a vector (first element becomes last) (★☆☆) \n",
        "(**hint**: array\\[::-1\\])"
      ]
    },
    {
      "cell_type": "code",
      "execution_count": null,
      "metadata": {
        "id": "M3383YMaBq6E",
        "colab": {
          "base_uri": "https://localhost:8080/"
        },
        "outputId": "5dcb1155-5047-455c-95df-39cb11066639"
      },
      "outputs": [
        {
          "output_type": "stream",
          "name": "stdout",
          "text": [
            "[49 48 47 46 45 44 43 42 41 40 39 38 37 36 35 34 33 32 31 30 29 28 27 26\n",
            " 25 24 23 22 21 20 19 18 17 16 15 14 13 12 11 10  9  8  7  6  5  4  3  2\n",
            "  1  0]\n"
          ]
        }
      ],
      "source": [
        "a = np.arange(50)\n",
        "a = a[::-1]\n",
        "print(a)"
      ]
    },
    {
      "cell_type": "markdown",
      "metadata": {
        "id": "8zq0J35XBq6E"
      },
      "source": [
        "#### 9.  Create a 3x3 matrix with values ranging from 0 to 8 (★☆☆) \n",
        "(**hint**: reshape)"
      ]
    },
    {
      "cell_type": "code",
      "execution_count": null,
      "metadata": {
        "id": "dScRtQpUBq6F",
        "colab": {
          "base_uri": "https://localhost:8080/"
        },
        "outputId": "bc52af03-381a-43d8-8537-89b00fee6bc7"
      },
      "outputs": [
        {
          "output_type": "stream",
          "name": "stdout",
          "text": [
            "[[0 1 2]\n",
            " [3 4 5]\n",
            " [6 7 8]]\n"
          ]
        }
      ],
      "source": [
        "a = np.arange(9).reshape(3, 3)\n",
        "print(a)"
      ]
    },
    {
      "cell_type": "markdown",
      "metadata": {
        "id": "RtSYttVCBq6F"
      },
      "source": [
        "#### 10. Find indices of non-zero elements from \\[1,2,0,0,4,0\\] (★☆☆) \n",
        "(**hint**: np.nonzero)"
      ]
    },
    {
      "cell_type": "code",
      "execution_count": 54,
      "metadata": {
        "id": "3pnUK_vCBq6G",
        "colab": {
          "base_uri": "https://localhost:8080/"
        },
        "outputId": "3ff5721b-e93b-4eca-faa5-8946ba9f6f7b"
      },
      "outputs": [
        {
          "output_type": "stream",
          "name": "stdout",
          "text": [
            "(array([0, 1, 4]),)\n"
          ]
        }
      ],
      "source": [
        "nz = np.nonzero([1,2,0,0,4,0])\n",
        "print(nz)"
      ]
    },
    {
      "cell_type": "markdown",
      "metadata": {
        "id": "M7cHqAfABq6G"
      },
      "source": [
        "#### 11. Create a 3x3 identity matrix (★☆☆) \n",
        "(**hint**: np.eye)"
      ]
    },
    {
      "cell_type": "code",
      "execution_count": null,
      "metadata": {
        "id": "q-ulBRNVBq6G",
        "colab": {
          "base_uri": "https://localhost:8080/"
        },
        "outputId": "764d6094-0964-45f3-a35b-b71fbd0a49c8"
      },
      "outputs": [
        {
          "output_type": "stream",
          "name": "stdout",
          "text": [
            "(array([0, 1, 4]),)\n"
          ]
        }
      ],
      "source": [
        "a = np.nonzero([1,2,0,0,4,0])\n",
        "print(a)"
      ]
    },
    {
      "cell_type": "markdown",
      "metadata": {
        "id": "XgibrTQrBq6H"
      },
      "source": [
        "#### 12. Create a 3x3x3 array with random values (★☆☆) \n",
        "(**hint**: np.random.random)"
      ]
    },
    {
      "cell_type": "code",
      "execution_count": null,
      "metadata": {
        "collapsed": true,
        "id": "-jxBnvNpBq6H",
        "colab": {
          "base_uri": "https://localhost:8080/"
        },
        "outputId": "f36b2a96-adca-4611-82af-7aeaf1afe53d"
      },
      "outputs": [
        {
          "output_type": "stream",
          "name": "stdout",
          "text": [
            "[[1. 0. 0.]\n",
            " [0. 1. 0.]\n",
            " [0. 0. 1.]]\n"
          ]
        }
      ],
      "source": [
        "a = np.eye(3)\n",
        "print(a)"
      ]
    },
    {
      "cell_type": "markdown",
      "metadata": {
        "id": "elAVElrGBq6H"
      },
      "source": [
        "#### 13. Create a 10x10 array with random values and find the minimum and maximum values (★☆☆) \n",
        "(**hint**: min, max)"
      ]
    },
    {
      "cell_type": "code",
      "execution_count": null,
      "metadata": {
        "id": "BHVait-nBq6I",
        "colab": {
          "base_uri": "https://localhost:8080/"
        },
        "outputId": "3c710486-df38-4a84-88fe-a3d77274a032"
      },
      "outputs": [
        {
          "output_type": "stream",
          "name": "stdout",
          "text": [
            "0.006755178952163821 0.9924431523495013\n"
          ]
        }
      ],
      "source": [
        "a = np.random.random((10,10))\n",
        "amin, amax = a.min(), a.max()\n",
        "print(amin, amax)"
      ]
    },
    {
      "cell_type": "markdown",
      "metadata": {
        "id": "5JV-2IMABq6I"
      },
      "source": [
        "#### 14. Create a random vector of size 30 and find the mean value (★☆☆) \n",
        "(**hint**: mean)"
      ]
    },
    {
      "cell_type": "code",
      "execution_count": null,
      "metadata": {
        "id": "zOMYuh8YBq6I",
        "colab": {
          "base_uri": "https://localhost:8080/"
        },
        "outputId": "360027e2-1d4e-41c6-c329-ce620f887fb8"
      },
      "outputs": [
        {
          "output_type": "stream",
          "name": "stdout",
          "text": [
            "0.4917572924957529\n"
          ]
        }
      ],
      "source": [
        "r = np.random.random(30)\n",
        "a = r.mean()\n",
        "print(a)"
      ]
    },
    {
      "cell_type": "markdown",
      "metadata": {
        "id": "rChV9z09Bq6I"
      },
      "source": [
        "#### 15. Create a 2d array with 1 on the border and 0 inside (★☆☆) \n",
        "(**hint**: array\\[1:-1, 1:-1\\])"
      ]
    },
    {
      "cell_type": "code",
      "execution_count": null,
      "metadata": {
        "id": "s35FbDOJBq6J",
        "colab": {
          "base_uri": "https://localhost:8080/"
        },
        "outputId": "1f1e6208-eb9b-4c03-aa8f-9b5dcc8398b5"
      },
      "outputs": [
        {
          "output_type": "stream",
          "name": "stdout",
          "text": [
            "[[1. 1. 1. 1. 1.]\n",
            " [1. 0. 0. 0. 1.]\n",
            " [1. 0. 0. 0. 1.]\n",
            " [1. 0. 0. 0. 1.]\n",
            " [1. 1. 1. 1. 1.]]\n"
          ]
        }
      ],
      "source": [
        "a = np.ones((5,5))\n",
        "a[1:-1,1:-1] = 0\n",
        "print(a)"
      ]
    },
    {
      "cell_type": "markdown",
      "metadata": {
        "id": "LVg1R6stBq6J"
      },
      "source": [
        "#### 16. How to add a border (filled with 0's) around an existing array? (★☆☆) \n",
        "(**hint**: np.pad)"
      ]
    },
    {
      "cell_type": "code",
      "execution_count": null,
      "metadata": {
        "id": "B_sQsaw-Bq6J",
        "colab": {
          "base_uri": "https://localhost:8080/"
        },
        "outputId": "612e4112-1772-4eeb-df1b-71ebdafcd8c8"
      },
      "outputs": [
        {
          "output_type": "stream",
          "name": "stdout",
          "text": [
            "[[0. 0. 0. 0. 0. 0. 0.]\n",
            " [0. 1. 1. 1. 1. 1. 0.]\n",
            " [0. 1. 1. 1. 1. 1. 0.]\n",
            " [0. 1. 1. 1. 1. 1. 0.]\n",
            " [0. 1. 1. 1. 1. 1. 0.]\n",
            " [0. 1. 1. 1. 1. 1. 0.]\n",
            " [0. 0. 0. 0. 0. 0. 0.]]\n"
          ]
        }
      ],
      "source": [
        "a = np.ones((5,5))\n",
        "a = np.pad(a, pad_width=1, mode='constant', constant_values=0)\n",
        "print(a)\n"
      ]
    },
    {
      "cell_type": "markdown",
      "metadata": {
        "id": "yDxCjNSUBq6J"
      },
      "source": [
        "#### 17. What is the result of the following expression? (★☆☆) \n",
        "(**hint**: NaN = not a number, inf = infinity)"
      ]
    },
    {
      "cell_type": "markdown",
      "metadata": {
        "id": "0oFnG1nlBq6K"
      },
      "source": [
        "```python\n",
        "0 * np.nan\n",
        "np.nan == np.nan\n",
        "np.inf > np.nan\n",
        "np.nan - np.nan\n",
        "0.3 == 3 * 0.1\n",
        "```"
      ]
    },
    {
      "cell_type": "code",
      "execution_count": null,
      "metadata": {
        "id": "RVT_wZ6eBq6K",
        "colab": {
          "base_uri": "https://localhost:8080/"
        },
        "outputId": "4574c557-0546-4ae0-ee96-2a0993d3949f"
      },
      "outputs": [
        {
          "output_type": "stream",
          "name": "stdout",
          "text": [
            "nan\n",
            "False\n",
            "False\n",
            "nan\n",
            "False\n"
          ]
        }
      ],
      "source": [
        "print(0 * np.nan)\n",
        "print(np.nan == np.nan)\n",
        "print(np.inf > np.nan)\n",
        "print(np.nan - np.nan)\n",
        "print(0.3 == 3 * 0.1)"
      ]
    },
    {
      "cell_type": "markdown",
      "metadata": {
        "id": "5l-XMfqwBq6L"
      },
      "source": [
        "#### 18. Create a 5x5 matrix with values 1,2,3,4 just below the diagonal (★☆☆) \n",
        "(**hint**: np.diag)"
      ]
    },
    {
      "cell_type": "code",
      "execution_count": null,
      "metadata": {
        "id": "5KSLRMPOBq6L",
        "colab": {
          "base_uri": "https://localhost:8080/"
        },
        "outputId": "8332d48c-a73c-448a-e86d-f31d60aea112"
      },
      "outputs": [
        {
          "output_type": "stream",
          "name": "stdout",
          "text": [
            "[[0 0 0 0 0]\n",
            " [1 0 0 0 0]\n",
            " [0 2 0 0 0]\n",
            " [0 0 3 0 0]\n",
            " [0 0 0 4 0]]\n"
          ]
        }
      ],
      "source": [
        "Z = np.diag(1+np.arange(4),k=-1)\n",
        "print(Z)"
      ]
    },
    {
      "cell_type": "markdown",
      "metadata": {
        "id": "jvJZi_00Bq6L"
      },
      "source": [
        "#### 19. Create a 8x8 matrix and fill it with a checkerboard pattern (★☆☆) \n",
        "(**hint**: array\\[::2\\])"
      ]
    },
    {
      "cell_type": "code",
      "execution_count": null,
      "metadata": {
        "id": "_Mw239jWBq6M",
        "colab": {
          "base_uri": "https://localhost:8080/"
        },
        "outputId": "63224a5d-d607-4fa6-87bc-a18c358ed934"
      },
      "outputs": [
        {
          "output_type": "stream",
          "name": "stdout",
          "text": [
            "[[0 1 0 1 0 1 0 1]\n",
            " [1 0 1 0 1 0 1 0]\n",
            " [0 1 0 1 0 1 0 1]\n",
            " [1 0 1 0 1 0 1 0]\n",
            " [0 1 0 1 0 1 0 1]\n",
            " [1 0 1 0 1 0 1 0]\n",
            " [0 1 0 1 0 1 0 1]\n",
            " [1 0 1 0 1 0 1 0]]\n"
          ]
        }
      ],
      "source": [
        "c = np.zeros((8,8),dtype=int)\n",
        "c[1::2,::2] = 1\n",
        "c[::2,1::2] = 1\n",
        "print(c)"
      ]
    },
    {
      "cell_type": "markdown",
      "metadata": {
        "id": "Q1JqWBkABq6M"
      },
      "source": [
        "#### 20. Consider a (6,7,8) shape array, what is the index (x,y,z) of the 100th element? \n",
        "(**hint**: np.unravel_index)"
      ]
    },
    {
      "cell_type": "code",
      "execution_count": null,
      "metadata": {
        "id": "x3iLUQTTBq6N",
        "colab": {
          "base_uri": "https://localhost:8080/"
        },
        "outputId": "247da056-6ea2-4997-f9e5-13474a64dceb"
      },
      "outputs": [
        {
          "output_type": "stream",
          "name": "stdout",
          "text": [
            "(1, 5, 3)\n"
          ]
        }
      ],
      "source": [
        "print(np.unravel_index(99,(6,7,8)))"
      ]
    },
    {
      "cell_type": "markdown",
      "metadata": {
        "id": "dIRaZoKXBq6N"
      },
      "source": [
        "#### 21. Create a checkerboard 8x8 matrix using the tile function (★☆☆) \n",
        "(**hint**: np.tile)"
      ]
    },
    {
      "cell_type": "code",
      "execution_count": null,
      "metadata": {
        "id": "TEPdQcH2Bq6N",
        "colab": {
          "base_uri": "https://localhost:8080/"
        },
        "outputId": "55acc955-9fee-40a4-fe23-b2d81f01b502"
      },
      "outputs": [
        {
          "output_type": "stream",
          "name": "stdout",
          "text": [
            "[[0 1 0 1 0 1 0 1]\n",
            " [1 0 1 0 1 0 1 0]\n",
            " [0 1 0 1 0 1 0 1]\n",
            " [1 0 1 0 1 0 1 0]\n",
            " [0 1 0 1 0 1 0 1]\n",
            " [1 0 1 0 1 0 1 0]\n",
            " [0 1 0 1 0 1 0 1]\n",
            " [1 0 1 0 1 0 1 0]]\n"
          ]
        }
      ],
      "source": [
        "a = np.tile( np.array([[0,1],[1,0]]), (4,4))\n",
        "print(a)"
      ]
    },
    {
      "cell_type": "markdown",
      "metadata": {
        "id": "Sqil3vFQBq6O"
      },
      "source": [
        "#### 22. Normalize a 5x5 random matrix (★☆☆) \n",
        "(**hint**: (x - min) / (max - min))"
      ]
    },
    {
      "cell_type": "code",
      "execution_count": null,
      "metadata": {
        "id": "MyRxIzkTBq6O",
        "colab": {
          "base_uri": "https://localhost:8080/"
        },
        "outputId": "b9c3c1fa-7f91-48cd-a306-440b9e52a334"
      },
      "outputs": [
        {
          "output_type": "stream",
          "name": "stdout",
          "text": [
            "[[-0.28041413  1.30415605 -1.19294948  0.31164502  1.2866357 ]\n",
            " [-0.54751142  0.60425771 -1.27461401 -0.49309207  1.0228328 ]\n",
            " [ 1.46131007 -1.18226806 -1.33460803  0.38365309  0.75589234]\n",
            " [ 0.30806067 -1.09297783 -0.8053748  -0.84222751  1.30996304]\n",
            " [ 1.07632659 -1.07026683  0.4449205   1.25672867 -1.4100781 ]]\n"
          ]
        }
      ],
      "source": [
        "n = np.random.random((5,5))\n",
        "n = (n - np.mean (n)) / (np.std (n))\n",
        "print(n)"
      ]
    },
    {
      "cell_type": "markdown",
      "metadata": {
        "id": "LEA4Y_6_Bq6O"
      },
      "source": [
        "#### 23. Create a custom dtype that describes a color as four unsigned bytes (RGBA) (★☆☆) \n",
        "(**hint**: np.dtype)"
      ]
    },
    {
      "cell_type": "code",
      "execution_count": null,
      "metadata": {
        "collapsed": true,
        "id": "MRuM4pCFBq6P",
        "colab": {
          "base_uri": "https://localhost:8080/"
        },
        "outputId": "4ff0a4bd-43bd-4052-cd95-9bb90bc76731"
      },
      "outputs": [
        {
          "output_type": "stream",
          "name": "stdout",
          "text": [
            "[('r', 'u1'), ('g', 'u1'), ('b', 'u1'), ('a', 'u1')]\n"
          ]
        }
      ],
      "source": [
        "color = np.dtype([(\"r\", np.ubyte),\n",
        "                  (\"g\", np.ubyte),\n",
        "                  (\"b\", np.ubyte),\n",
        "                  (\"a\", np.ubyte)])\n",
        "print(color)"
      ]
    },
    {
      "cell_type": "markdown",
      "metadata": {
        "id": "n0GeDeyXBq6Q"
      },
      "source": [
        "#### 24. Multiply a 5x3 matrix by a 3x2 matrix (real matrix product) (★☆☆) \n",
        "(**hint**: np.dot | @)"
      ]
    },
    {
      "cell_type": "code",
      "execution_count": null,
      "metadata": {
        "id": "zJ6qgHmuBq6Q",
        "colab": {
          "base_uri": "https://localhost:8080/"
        },
        "outputId": "4d5fcf84-3fc4-4153-bbfd-22a00dfdd990"
      },
      "outputs": [
        {
          "output_type": "stream",
          "name": "stdout",
          "text": [
            "[[3. 3.]\n",
            " [3. 3.]\n",
            " [3. 3.]\n",
            " [3. 3.]\n",
            " [3. 3.]]\n"
          ]
        }
      ],
      "source": [
        "r = np.dot(np.ones((5,3)), np.ones((3,2)))\n",
        "print(r)"
      ]
    },
    {
      "cell_type": "markdown",
      "metadata": {
        "id": "rz6ahMbqBq6R"
      },
      "source": [
        "#### 25. Given a 1D array, negate all elements which are between 3 and 8, in place. (★☆☆) \n",
        "(**hint**: >, <=)"
      ]
    },
    {
      "cell_type": "code",
      "execution_count": null,
      "metadata": {
        "id": "_uPM_TjoBq6R",
        "colab": {
          "base_uri": "https://localhost:8080/"
        },
        "outputId": "46044085-be14-43a7-9556-3991b1cb9e7c"
      },
      "outputs": [
        {
          "output_type": "stream",
          "name": "stdout",
          "text": [
            "[ 0  1  2  3 -4 -5 -6 -7  8  9 10]\n"
          ]
        }
      ],
      "source": [
        "e = np.arange(11)\n",
        "e[(3 < e) & (e < 8)] *= -1\n",
        "print(e)"
      ]
    },
    {
      "cell_type": "markdown",
      "metadata": {
        "id": "tAcdlpaOBq6S"
      },
      "source": [
        "#### 26. What is the output of the following script? (★☆☆) \n",
        "(**hint**: np.sum)"
      ]
    },
    {
      "cell_type": "markdown",
      "metadata": {
        "id": "U7maTCQCBq6S"
      },
      "source": [
        "```python\n",
        "# Author: Jake VanderPlas\n",
        "\n",
        "print(sum(range(5),-1))\n",
        "from numpy import *\n",
        "print(sum(range(5),-1))\n",
        "```"
      ]
    },
    {
      "cell_type": "code",
      "execution_count": null,
      "metadata": {
        "id": "c7-ISi_OBq6T",
        "colab": {
          "base_uri": "https://localhost:8080/"
        },
        "outputId": "ecc99292-d839-4215-f9d6-7e9b57b85095"
      },
      "outputs": [
        {
          "output_type": "stream",
          "name": "stdout",
          "text": [
            "9\n",
            "10\n"
          ]
        }
      ],
      "source": [
        "print(sum(range(5),-1))\n",
        "from numpy import *\n",
        "print(sum(range(5),-1))"
      ]
    },
    {
      "cell_type": "markdown",
      "metadata": {
        "id": "O2TxgwDZBq6T"
      },
      "source": [
        "#### 27. Consider an integer vector Z, which of these expressions are legal? (★☆☆)"
      ]
    },
    {
      "cell_type": "markdown",
      "metadata": {
        "id": "2wZLvrsiBq6T"
      },
      "source": [
        "```python\n",
        "Z**Z\n",
        "2 << Z >> 2\n",
        "Z <- Z\n",
        "1j*Z\n",
        "Z/1/1\n",
        "Z<Z>Z\n",
        "```"
      ]
    },
    {
      "cell_type": "code",
      "execution_count": null,
      "metadata": {
        "id": "HDrv67EzBq6U",
        "colab": {
          "base_uri": "https://localhost:8080/",
          "height": 235
        },
        "outputId": "318e5cbb-7f69-4345-ca95-e64aafc26167"
      },
      "outputs": [
        {
          "output_type": "error",
          "ename": "ValueError",
          "evalue": "ignored",
          "traceback": [
            "\u001b[0;31m---------------------------------------------------------------------------\u001b[0m",
            "\u001b[0;31mValueError\u001b[0m                                Traceback (most recent call last)",
            "\u001b[0;32m<ipython-input-31-5d9128624017>\u001b[0m in \u001b[0;36m<module>\u001b[0;34m()\u001b[0m\n\u001b[1;32m      4\u001b[0m \u001b[0;36m1j\u001b[0m\u001b[0;34m*\u001b[0m\u001b[0mZ\u001b[0m\u001b[0;34m\u001b[0m\u001b[0;34m\u001b[0m\u001b[0m\n\u001b[1;32m      5\u001b[0m \u001b[0mZ\u001b[0m\u001b[0;34m/\u001b[0m\u001b[0;36m1\u001b[0m\u001b[0;34m/\u001b[0m\u001b[0;36m1\u001b[0m\u001b[0;34m\u001b[0m\u001b[0;34m\u001b[0m\u001b[0m\n\u001b[0;32m----> 6\u001b[0;31m \u001b[0mZ\u001b[0m\u001b[0;34m<\u001b[0m\u001b[0mZ\u001b[0m\u001b[0;34m>\u001b[0m\u001b[0mZ\u001b[0m\u001b[0;34m\u001b[0m\u001b[0;34m\u001b[0m\u001b[0m\n\u001b[0m\u001b[1;32m      7\u001b[0m \u001b[0mprint\u001b[0m\u001b[0;34m(\u001b[0m\u001b[0mZ\u001b[0m\u001b[0;34m)\u001b[0m\u001b[0;34m\u001b[0m\u001b[0;34m\u001b[0m\u001b[0m\n",
            "\u001b[0;31mValueError\u001b[0m: The truth value of an array with more than one element is ambiguous. Use a.any() or a.all()"
          ]
        }
      ],
      "source": [
        "Z**Z\n",
        "2 << Z >> 2\n",
        "Z <- Z\n",
        "1j*Z\n",
        "Z/1/1\n",
        "Z<Z>Z\n",
        "print(Z)"
      ]
    },
    {
      "cell_type": "markdown",
      "metadata": {
        "id": "jQtlpBgMBq6U"
      },
      "source": [
        "#### 28. What are the result of the following expressions?"
      ]
    },
    {
      "cell_type": "markdown",
      "metadata": {
        "id": "lS13-8stBq6V"
      },
      "source": [
        "```python\n",
        "np.array(0) / np.array(0)\n",
        "np.array(0) // np.array(0)\n",
        "np.array([np.nan]).astype(int).astype(float)\n",
        "```"
      ]
    },
    {
      "cell_type": "code",
      "execution_count": null,
      "metadata": {
        "id": "WjJM6b7XBq6V",
        "colab": {
          "base_uri": "https://localhost:8080/"
        },
        "outputId": "abecd99f-c1cd-4e2b-eec5-ee1fbbd5970d"
      },
      "outputs": [
        {
          "output_type": "stream",
          "name": "stdout",
          "text": [
            "nan\n",
            "0\n",
            "[-9.22337204e+18]\n"
          ]
        },
        {
          "output_type": "stream",
          "name": "stderr",
          "text": [
            "/usr/local/lib/python3.7/dist-packages/ipykernel_launcher.py:1: RuntimeWarning: invalid value encountered in true_divide\n",
            "  \"\"\"Entry point for launching an IPython kernel.\n",
            "/usr/local/lib/python3.7/dist-packages/ipykernel_launcher.py:2: RuntimeWarning: divide by zero encountered in floor_divide\n",
            "  \n"
          ]
        }
      ],
      "source": [
        "print(np.array(0) / np.array(0))\n",
        "print(np.array(0) // np.array(0))\n",
        "print(np.array([np.nan]).astype(int).astype(float))"
      ]
    },
    {
      "cell_type": "markdown",
      "metadata": {
        "id": "UJXte6PABq6V"
      },
      "source": [
        "#### 29. How to round away from zero a float array ? (★☆☆) \n",
        "(**hint**: np.uniform, np.copysign, np.ceil, np.abs)"
      ]
    },
    {
      "cell_type": "code",
      "execution_count": null,
      "metadata": {
        "id": "Mmdi3Gm0Bq6W",
        "colab": {
          "base_uri": "https://localhost:8080/"
        },
        "outputId": "4167fb00-c9fc-473a-fd9c-f4009464f939"
      },
      "outputs": [
        {
          "output_type": "stream",
          "name": "stdout",
          "text": [
            "[ -2.   8.   6. -10.   6.  -1.   6.  -6.   4.  -3.]\n",
            "[ -2.   8.   6. -10.   6.  -1.   6.  -6.   4.  -3.]\n"
          ]
        }
      ],
      "source": [
        "r = np.random.uniform(-10,+10,10)\n",
        "print(np.copysign(np.ceil(np.abs(r)), r))\n",
        "print(np.where(r>0, np.ceil(r), np.floor(r)))"
      ]
    },
    {
      "cell_type": "markdown",
      "metadata": {
        "id": "qMIw6W8RBq6W"
      },
      "source": [
        "#### 30. How to find common values between two arrays? (★☆☆) \n",
        "(**hint**: np.intersect1d)"
      ]
    },
    {
      "cell_type": "code",
      "execution_count": null,
      "metadata": {
        "id": "TTI4F1X0Bq6X",
        "colab": {
          "base_uri": "https://localhost:8080/"
        },
        "outputId": "4e9c01c2-cb2a-4722-ad6f-545c04c2b1a9"
      },
      "outputs": [
        {
          "output_type": "stream",
          "name": "stdout",
          "text": [
            "[3 4 5 6 9]\n"
          ]
        }
      ],
      "source": [
        "a1 = np.random.randint(0,10,10)\n",
        "a2 = np.random.randint(0,10,10)\n",
        "print(np.intersect1d(a1,a2))"
      ]
    },
    {
      "cell_type": "markdown",
      "metadata": {
        "id": "t7c0GgDTBq6X"
      },
      "source": [
        "#### 31. How to ignore all numpy warnings (not recommended)? (★☆☆) \n",
        "(**hint**: np.seterr, np.errstate)"
      ]
    },
    {
      "cell_type": "code",
      "execution_count": 55,
      "metadata": {
        "id": "0qcY06EqBq6X"
      },
      "outputs": [],
      "source": [
        "defaults = np.seterr(all=\"ignore\")\n",
        "Z = np.ones(1) / 0\n",
        "\n",
        "# Back to sanity\n",
        "_ = np.seterr(**defaults)\n",
        "\n",
        "# Equivalently with a context manager\n",
        "with np.errstate(all=\"ignore\"):\n",
        "    np.arange(3) / 0"
      ]
    },
    {
      "cell_type": "markdown",
      "metadata": {
        "id": "fQRvbtVXBq6Y"
      },
      "source": [
        "#### 32. Is the following expressions true? (★☆☆) \n",
        "(**hint**: imaginary number)"
      ]
    },
    {
      "cell_type": "markdown",
      "metadata": {
        "id": "MN6qFVMYBq6Y"
      },
      "source": [
        "```python\n",
        "np.sqrt(-1) == np.emath.sqrt(-1)\n",
        "```"
      ]
    },
    {
      "cell_type": "code",
      "execution_count": 56,
      "metadata": {
        "id": "OcEzysVVBq6Y",
        "colab": {
          "base_uri": "https://localhost:8080/"
        },
        "outputId": "4b700d24-655f-4b95-bfba-93dc6cd80099"
      },
      "outputs": [
        {
          "output_type": "stream",
          "name": "stderr",
          "text": [
            "/usr/local/lib/python3.7/dist-packages/ipykernel_launcher.py:1: RuntimeWarning: invalid value encountered in sqrt\n",
            "  \"\"\"Entry point for launching an IPython kernel.\n"
          ]
        },
        {
          "output_type": "execute_result",
          "data": {
            "text/plain": [
              "False"
            ]
          },
          "metadata": {},
          "execution_count": 56
        }
      ],
      "source": [
        "np.sqrt(-1) == np.emath.sqrt(-1)"
      ]
    },
    {
      "cell_type": "markdown",
      "metadata": {
        "id": "lXUnvhC8Bq6Y"
      },
      "source": [
        "#### 33. How to get the dates of yesterday, today and tomorrow? (★☆☆) \n",
        "(**hint**: np.datetime64, np.timedelta64)"
      ]
    },
    {
      "cell_type": "code",
      "execution_count": 57,
      "metadata": {
        "collapsed": true,
        "id": "I-bBoI0tBq6Z"
      },
      "outputs": [],
      "source": [
        "yesterday = np.datetime64('today') - np.timedelta64(1)\n",
        "today     = np.datetime64('today')\n",
        "tomorrow  = np.datetime64('today') + np.timedelta64(1)"
      ]
    },
    {
      "cell_type": "markdown",
      "metadata": {
        "id": "G4CnReQsBq6Z"
      },
      "source": [
        "#### 34. How to get all the dates corresponding to the month of July 2016? (★★☆) \n",
        "(**hint**: np.arange(dtype=datetime64\\['D'\\]))"
      ]
    },
    {
      "cell_type": "code",
      "execution_count": null,
      "metadata": {
        "id": "rC2cmXv8Bq6Z",
        "colab": {
          "base_uri": "https://localhost:8080/"
        },
        "outputId": "0659dffe-8638-4f8b-db75-85f121b1b910"
      },
      "outputs": [
        {
          "output_type": "stream",
          "name": "stdout",
          "text": [
            "['2016-07-01' '2016-07-02' '2016-07-03' '2016-07-04' '2016-07-05'\n",
            " '2016-07-06' '2016-07-07' '2016-07-08' '2016-07-09' '2016-07-10'\n",
            " '2016-07-11' '2016-07-12' '2016-07-13' '2016-07-14' '2016-07-15'\n",
            " '2016-07-16' '2016-07-17' '2016-07-18' '2016-07-19' '2016-07-20'\n",
            " '2016-07-21' '2016-07-22' '2016-07-23' '2016-07-24' '2016-07-25'\n",
            " '2016-07-26' '2016-07-27' '2016-07-28' '2016-07-29' '2016-07-30'\n",
            " '2016-07-31']\n"
          ]
        }
      ],
      "source": [
        "d = np.arange('2016-07', '2016-08', dtype='datetime64[D]')\n",
        "print(d)"
      ]
    },
    {
      "cell_type": "markdown",
      "metadata": {
        "id": "shQ45d4tBq6Z"
      },
      "source": [
        "#### 35. How to compute ((A+B)\\*(-A/2)) in place (without copy)? (★★☆) \n",
        "(**hint**: np.add(out=), np.negative(out=), np.multiply(out=), np.divide(out=))"
      ]
    },
    {
      "cell_type": "code",
      "execution_count": null,
      "metadata": {
        "id": "lwwzPp5wBq6a",
        "colab": {
          "base_uri": "https://localhost:8080/"
        },
        "outputId": "c620b1d4-2a5f-40a2-9c0a-8b10f1c667a8"
      },
      "outputs": [
        {
          "output_type": "execute_result",
          "data": {
            "text/plain": [
              "array([-1.5, -1.5, -1.5])"
            ]
          },
          "metadata": {},
          "execution_count": 37
        }
      ],
      "source": [
        "A = np.ones(3)*1\n",
        "B = np.ones(3)*2\n",
        "np.add(A,B,out=B)\n",
        "np.divide(A,2,out=A)\n",
        "np.negative(A,out=A)\n",
        "np.multiply(A,B,out=A)"
      ]
    },
    {
      "cell_type": "markdown",
      "metadata": {
        "id": "8_frGg8PBq6a"
      },
      "source": [
        "#### 36. Extract the integer part of a random array using 5 different methods (★★☆) \n",
        "(**hint**: %, np.floor, np.ceil, astype, np.trunc)"
      ]
    },
    {
      "cell_type": "code",
      "execution_count": null,
      "metadata": {
        "id": "Yt6no0FFBq6a",
        "colab": {
          "base_uri": "https://localhost:8080/"
        },
        "outputId": "c2f8372b-163d-4fed-e306-1864e09ae59e"
      },
      "outputs": [
        {
          "output_type": "stream",
          "name": "stdout",
          "text": [
            "[8. 5. 8. 8. 4. 3. 6. 0. 4. 2.]\n",
            "[8. 5. 8. 8. 4. 3. 6. 0. 4. 2.]\n",
            "[8. 5. 8. 8. 4. 3. 6. 0. 4. 2.]\n",
            "[8 5 8 8 4 3 6 0 4 2]\n",
            "[8. 5. 8. 8. 4. 3. 6. 0. 4. 2.]\n"
          ]
        }
      ],
      "source": [
        "Z = np.random.uniform(0,10,10)\n",
        "\n",
        "print(Z - Z%1)\n",
        "print(Z // 1)\n",
        "print(np.floor(Z))\n",
        "print(Z.astype(int))\n",
        "print(np.trunc(Z))"
      ]
    },
    {
      "cell_type": "markdown",
      "metadata": {
        "id": "6mwf6ws5Bq6a"
      },
      "source": [
        "#### 37. Create a 5x5 matrix with row values ranging from 0 to 4 (★★☆) \n",
        "(**hint**: np.arange)"
      ]
    },
    {
      "cell_type": "code",
      "execution_count": null,
      "metadata": {
        "id": "xbmquPREBq6b",
        "colab": {
          "base_uri": "https://localhost:8080/"
        },
        "outputId": "91607fd6-d7b8-4e92-f0ae-3b11c7612c35"
      },
      "outputs": [
        {
          "output_type": "stream",
          "name": "stdout",
          "text": [
            "[[0. 1. 2. 3. 4.]\n",
            " [0. 1. 2. 3. 4.]\n",
            " [0. 1. 2. 3. 4.]\n",
            " [0. 1. 2. 3. 4.]\n",
            " [0. 1. 2. 3. 4.]]\n",
            "[[0 1 2 3 4]\n",
            " [0 1 2 3 4]\n",
            " [0 1 2 3 4]\n",
            " [0 1 2 3 4]\n",
            " [0 1 2 3 4]]\n"
          ]
        }
      ],
      "source": [
        "Z = np.zeros((5,5))\n",
        "Z += np.arange(5)\n",
        "print(Z)\n",
        "Z = np.tile(np.arange(0, 5), (5,1))\n",
        "print(Z)"
      ]
    },
    {
      "cell_type": "markdown",
      "metadata": {
        "id": "Ygsfp-orBq6b"
      },
      "source": [
        "#### 38. Consider a generator function that generates 10 integers and use it to build an array (★☆☆) \n",
        "(**hint**: np.fromiter)"
      ]
    },
    {
      "cell_type": "code",
      "execution_count": null,
      "metadata": {
        "id": "Sh_3K6vDBq6b",
        "colab": {
          "base_uri": "https://localhost:8080/"
        },
        "outputId": "a6559d24-2068-4e7f-d7e7-c6c5a7130853"
      },
      "outputs": [
        {
          "output_type": "stream",
          "name": "stdout",
          "text": [
            "[0. 1. 2. 3. 4. 5. 6. 7. 8. 9.]\n"
          ]
        }
      ],
      "source": [
        "def generate():\n",
        "    for x in range(10):\n",
        "        yield x\n",
        "Z = np.fromiter(generate(),dtype=float,count=-1)\n",
        "print(Z)"
      ]
    },
    {
      "cell_type": "markdown",
      "metadata": {
        "id": "aPbGLlLVBq6b"
      },
      "source": [
        "#### 39. Create a vector of size 10 with values ranging from 0 to 1, both excluded (★★☆) \n",
        "(**hint**: np.linspace)"
      ]
    },
    {
      "cell_type": "code",
      "execution_count": null,
      "metadata": {
        "id": "Ei45Go0uBq6c",
        "colab": {
          "base_uri": "https://localhost:8080/"
        },
        "outputId": "302d21df-0577-46e4-d62e-fb2205d8eebb"
      },
      "outputs": [
        {
          "output_type": "stream",
          "name": "stdout",
          "text": [
            "[0.09090909 0.18181818 0.27272727 0.36363636 0.45454545 0.54545455\n",
            " 0.63636364 0.72727273 0.81818182 0.90909091]\n"
          ]
        }
      ],
      "source": [
        "v = np.linspace(0,1,11,endpoint=False)[1:]\n",
        "print(v)"
      ]
    },
    {
      "cell_type": "markdown",
      "metadata": {
        "id": "tKVlNnxcBq6c"
      },
      "source": [
        "#### 40. Create a random vector of size 10 and sort it (★★☆) \n",
        "(**hint**: sort)"
      ]
    },
    {
      "cell_type": "code",
      "execution_count": null,
      "metadata": {
        "id": "aEFzWKjTBq6c",
        "colab": {
          "base_uri": "https://localhost:8080/"
        },
        "outputId": "c8c08603-4838-4785-e2fd-9f11640338a4"
      },
      "outputs": [
        {
          "output_type": "stream",
          "name": "stdout",
          "text": [
            "[0.21636529 0.21870373 0.30321018 0.36964998 0.36996667 0.40366413\n",
            " 0.44158674 0.46138703 0.76468105 0.85890201]\n"
          ]
        }
      ],
      "source": [
        "Z = np.random.random(10)\n",
        "Z.sort()\n",
        "print(Z)"
      ]
    },
    {
      "cell_type": "markdown",
      "metadata": {
        "id": "hOxG6-crBq6c"
      },
      "source": [
        "#### 41. How to sum a small array faster than np.sum? (★★☆) \n",
        "(**hint**: np.add.reduce)"
      ]
    },
    {
      "cell_type": "code",
      "execution_count": null,
      "metadata": {
        "id": "QVsCPiqxBq6d",
        "colab": {
          "base_uri": "https://localhost:8080/"
        },
        "outputId": "690869be-cecc-47ff-f027-20ff59058eb8"
      },
      "outputs": [
        {
          "output_type": "execute_result",
          "data": {
            "text/plain": [
              "45"
            ]
          },
          "metadata": {},
          "execution_count": 45
        }
      ],
      "source": [
        "s = np.arange(10)\n",
        "np.add.reduce(s)"
      ]
    },
    {
      "cell_type": "markdown",
      "metadata": {
        "id": "VD4ix_oaBq6d"
      },
      "source": [
        "#### 42. Consider two random array A and B, check if they are equal (★★☆) \n",
        "(**hint**: np.allclose, np.array\\_equal)"
      ]
    },
    {
      "cell_type": "code",
      "execution_count": null,
      "metadata": {
        "id": "FMYig5frBq6d",
        "colab": {
          "base_uri": "https://localhost:8080/"
        },
        "outputId": "8f428fdc-47ca-4181-c142-6b9db6631f95"
      },
      "outputs": [
        {
          "output_type": "stream",
          "name": "stdout",
          "text": [
            "False\n",
            "False\n"
          ]
        }
      ],
      "source": [
        "A = np.random.randint(0,2,5)\n",
        "B = np.random.randint(0,2,5)\n",
        "equal = np.allclose(A,B)\n",
        "print(equal)\n",
        "equal = np.array_equal(A,B)\n",
        "print(equal)"
      ]
    },
    {
      "cell_type": "markdown",
      "metadata": {
        "id": "HT4IMcpBBq6d"
      },
      "source": [
        "#### 43. Make an array immutable (read-only) (★★☆) \n",
        "(**hint**: flags.writeable)"
      ]
    },
    {
      "cell_type": "code",
      "execution_count": null,
      "metadata": {
        "id": "1PcGHvlUBq6d",
        "colab": {
          "base_uri": "https://localhost:8080/",
          "height": 200
        },
        "outputId": "572d25f1-9c5a-4f5b-9f46-f6a1d8e7700c"
      },
      "outputs": [
        {
          "output_type": "error",
          "ename": "ValueError",
          "evalue": "ignored",
          "traceback": [
            "\u001b[0;31m---------------------------------------------------------------------------\u001b[0m",
            "\u001b[0;31mValueError\u001b[0m                                Traceback (most recent call last)",
            "\u001b[0;32m<ipython-input-56-de7b3958db6f>\u001b[0m in \u001b[0;36m<module>\u001b[0;34m()\u001b[0m\n\u001b[1;32m      1\u001b[0m \u001b[0mZ\u001b[0m \u001b[0;34m=\u001b[0m \u001b[0mnp\u001b[0m\u001b[0;34m.\u001b[0m\u001b[0mzeros\u001b[0m\u001b[0;34m(\u001b[0m\u001b[0;36m10\u001b[0m\u001b[0;34m)\u001b[0m\u001b[0;34m\u001b[0m\u001b[0;34m\u001b[0m\u001b[0m\n\u001b[1;32m      2\u001b[0m \u001b[0mZ\u001b[0m\u001b[0;34m.\u001b[0m\u001b[0mflags\u001b[0m\u001b[0;34m.\u001b[0m\u001b[0mwriteable\u001b[0m \u001b[0;34m=\u001b[0m \u001b[0;32mFalse\u001b[0m\u001b[0;34m\u001b[0m\u001b[0;34m\u001b[0m\u001b[0m\n\u001b[0;32m----> 3\u001b[0;31m \u001b[0mZ\u001b[0m\u001b[0;34m[\u001b[0m\u001b[0;36m0\u001b[0m\u001b[0;34m]\u001b[0m\u001b[0;34m=\u001b[0m\u001b[0;36m1\u001b[0m\u001b[0;34m\u001b[0m\u001b[0;34m\u001b[0m\u001b[0m\n\u001b[0m",
            "\u001b[0;31mValueError\u001b[0m: assignment destination is read-only"
          ]
        }
      ],
      "source": [
        "Z = np.zeros(10)\n",
        "Z.flags.writeable = False\n",
        "Z[0]=1\n"
      ]
    },
    {
      "cell_type": "markdown",
      "metadata": {
        "id": "BGnwhY26Bq6e"
      },
      "source": [
        "#### 44. Consider a random 10x2 matrix representing cartesian coordinates, convert them to polar coordinates (★★☆) \n",
        "(**hint**: np.sqrt, np.arctan2)"
      ]
    },
    {
      "cell_type": "code",
      "execution_count": null,
      "metadata": {
        "id": "4h2Ocji3Bq6e",
        "colab": {
          "base_uri": "https://localhost:8080/"
        },
        "outputId": "c52437bf-c1b2-481d-a0de-0dbe29c951a9"
      },
      "outputs": [
        {
          "output_type": "stream",
          "name": "stdout",
          "text": [
            "[0.76855184 0.4928377  0.98360164 0.79312513 0.65697916 0.91528354\n",
            " 0.82356864 0.69687981 1.06219651 0.21377479]\n",
            "[1.42888096 0.73321642 1.27306264 0.1348995  0.34093057 0.95432447\n",
            " 0.80793467 0.89191804 0.86772413 0.72756383]\n"
          ]
        }
      ],
      "source": [
        "a = np.random.random((10,2))\n",
        "X,Y = a[:,0], a[:,1]\n",
        "R = np.sqrt(X**2+Y**2)\n",
        "T = np.arctan2(Y,X)\n",
        "print(R)\n",
        "print(T)"
      ]
    },
    {
      "cell_type": "markdown",
      "metadata": {
        "id": "Ozi-6NvXBq6e"
      },
      "source": [
        "#### 45. Create random vector of size 10 and replace the maximum value by 0 (★★☆) \n",
        "(**hint**: argmax)"
      ]
    },
    {
      "cell_type": "code",
      "execution_count": null,
      "metadata": {
        "id": "m54uvNDnBq6e",
        "colab": {
          "base_uri": "https://localhost:8080/"
        },
        "outputId": "1ca1ccab-fd0a-4163-acd5-1666cfb4f1fc"
      },
      "outputs": [
        {
          "output_type": "stream",
          "name": "stdout",
          "text": [
            "[0.80102436 0.63628326 0.0527657  0.66602732 0.5220751  0.41460786\n",
            " 0.73867835 0.76758045 0.         0.28363217]\n"
          ]
        }
      ],
      "source": [
        "r = np.random.random(10)\n",
        "r[r.argmax()] = 0\n",
        "print(r)"
      ]
    },
    {
      "cell_type": "markdown",
      "metadata": {
        "id": "nsbMFiywBq6e"
      },
      "source": [
        "#### 46. Create a structured array with `x` and `y` coordinates covering the \\[0,1\\]x\\[0,1\\] area (★★☆) \n",
        "(**hint**: np.meshgrid)"
      ]
    },
    {
      "cell_type": "code",
      "execution_count": null,
      "metadata": {
        "id": "qEEU9EbrBq6f",
        "colab": {
          "base_uri": "https://localhost:8080/"
        },
        "outputId": "da202ffd-8c8f-4ce8-915d-0bf7fdd0c8bf"
      },
      "outputs": [
        {
          "output_type": "stream",
          "name": "stdout",
          "text": [
            "[[(0.  , 0.  ) (0.25, 0.  ) (0.5 , 0.  ) (0.75, 0.  ) (1.  , 0.  )]\n",
            " [(0.  , 0.25) (0.25, 0.25) (0.5 , 0.25) (0.75, 0.25) (1.  , 0.25)]\n",
            " [(0.  , 0.5 ) (0.25, 0.5 ) (0.5 , 0.5 ) (0.75, 0.5 ) (1.  , 0.5 )]\n",
            " [(0.  , 0.75) (0.25, 0.75) (0.5 , 0.75) (0.75, 0.75) (1.  , 0.75)]\n",
            " [(0.  , 1.  ) (0.25, 1.  ) (0.5 , 1.  ) (0.75, 1.  ) (1.  , 1.  )]]\n"
          ]
        }
      ],
      "source": [
        "s = np.zeros((5,5), [('x',float),('y',float)])\n",
        "s['x'], s['y'] = np.meshgrid(np.linspace(0,1,5),\n",
        "                             np.linspace(0,1,5))\n",
        "print(s)"
      ]
    },
    {
      "cell_type": "markdown",
      "metadata": {
        "id": "_0eCeZLYBq6f"
      },
      "source": [
        "####  47. Given two arrays, X and Y, construct the Cauchy matrix C (Cij =1/(xi - yj)) \n",
        "(**hint**: np.subtract.outer)"
      ]
    },
    {
      "cell_type": "code",
      "execution_count": null,
      "metadata": {
        "id": "yFxCkL70Bq6f",
        "colab": {
          "base_uri": "https://localhost:8080/"
        },
        "outputId": "62ff386c-e02a-45df-a449-e1c54395e7f3"
      },
      "outputs": [
        {
          "output_type": "stream",
          "name": "stdout",
          "text": [
            "3638.163637117973\n"
          ]
        }
      ],
      "source": [
        "X = np.arange(8)\n",
        "Y = X + 0.5\n",
        "C = 1.0 / np.subtract.outer(X, Y)\n",
        "print(np.linalg.det(C))"
      ]
    },
    {
      "cell_type": "markdown",
      "metadata": {
        "id": "mX51zutdBq6f"
      },
      "source": [
        "#### 48. Print the minimum and maximum representable value for each numpy scalar type (★★☆) \n",
        "(**hint**: np.iinfo, np.finfo, eps)"
      ]
    },
    {
      "cell_type": "code",
      "execution_count": null,
      "metadata": {
        "id": "dRL9xucGBq6f",
        "colab": {
          "base_uri": "https://localhost:8080/"
        },
        "outputId": "c505a12c-c2a2-4472-bf9b-e6ed6a102df4"
      },
      "outputs": [
        {
          "output_type": "stream",
          "name": "stdout",
          "text": [
            "-128\n",
            "127\n",
            "-2147483648\n",
            "2147483647\n",
            "-9223372036854775808\n",
            "9223372036854775807\n",
            "-3.4028235e+38\n",
            "3.4028235e+38\n",
            "1.1920929e-07\n",
            "-1.7976931348623157e+308\n",
            "1.7976931348623157e+308\n",
            "2.220446049250313e-16\n"
          ]
        }
      ],
      "source": [
        "for dtype in [np.int8, np.int32, np.int64]:\n",
        "   print(np.iinfo(dtype).min)\n",
        "   print(np.iinfo(dtype).max)\n",
        "for dtype in [np.float32, np.float64]:\n",
        "   print(np.finfo(dtype).min)\n",
        "   print(np.finfo(dtype).max)\n",
        "   print(np.finfo(dtype).eps)"
      ]
    },
    {
      "cell_type": "markdown",
      "metadata": {
        "id": "-FcaWL1fBq6g"
      },
      "source": [
        "#### 49. How to print all the values of an array? (★★☆) \n",
        "(**hint**: np.set\\_printoptions)"
      ]
    },
    {
      "cell_type": "code",
      "execution_count": null,
      "metadata": {
        "id": "Kv6yBbhTBq6g",
        "colab": {
          "base_uri": "https://localhost:8080/"
        },
        "outputId": "67948349-ee4e-4e66-9bf8-fbd39a7f3ed1"
      },
      "outputs": [
        {
          "output_type": "stream",
          "name": "stdout",
          "text": [
            "[[0. 0. 0. 0. 0. 0. 0. 0. 0. 0. 0. 0. 0. 0. 0. 0. 0. 0. 0. 0. 0. 0. 0. 0.\n",
            "  0. 0. 0. 0. 0. 0. 0. 0. 0. 0. 0. 0. 0. 0. 0. 0.]\n",
            " [0. 0. 0. 0. 0. 0. 0. 0. 0. 0. 0. 0. 0. 0. 0. 0. 0. 0. 0. 0. 0. 0. 0. 0.\n",
            "  0. 0. 0. 0. 0. 0. 0. 0. 0. 0. 0. 0. 0. 0. 0. 0.]\n",
            " [0. 0. 0. 0. 0. 0. 0. 0. 0. 0. 0. 0. 0. 0. 0. 0. 0. 0. 0. 0. 0. 0. 0. 0.\n",
            "  0. 0. 0. 0. 0. 0. 0. 0. 0. 0. 0. 0. 0. 0. 0. 0.]\n",
            " [0. 0. 0. 0. 0. 0. 0. 0. 0. 0. 0. 0. 0. 0. 0. 0. 0. 0. 0. 0. 0. 0. 0. 0.\n",
            "  0. 0. 0. 0. 0. 0. 0. 0. 0. 0. 0. 0. 0. 0. 0. 0.]\n",
            " [0. 0. 0. 0. 0. 0. 0. 0. 0. 0. 0. 0. 0. 0. 0. 0. 0. 0. 0. 0. 0. 0. 0. 0.\n",
            "  0. 0. 0. 0. 0. 0. 0. 0. 0. 0. 0. 0. 0. 0. 0. 0.]\n",
            " [0. 0. 0. 0. 0. 0. 0. 0. 0. 0. 0. 0. 0. 0. 0. 0. 0. 0. 0. 0. 0. 0. 0. 0.\n",
            "  0. 0. 0. 0. 0. 0. 0. 0. 0. 0. 0. 0. 0. 0. 0. 0.]\n",
            " [0. 0. 0. 0. 0. 0. 0. 0. 0. 0. 0. 0. 0. 0. 0. 0. 0. 0. 0. 0. 0. 0. 0. 0.\n",
            "  0. 0. 0. 0. 0. 0. 0. 0. 0. 0. 0. 0. 0. 0. 0. 0.]\n",
            " [0. 0. 0. 0. 0. 0. 0. 0. 0. 0. 0. 0. 0. 0. 0. 0. 0. 0. 0. 0. 0. 0. 0. 0.\n",
            "  0. 0. 0. 0. 0. 0. 0. 0. 0. 0. 0. 0. 0. 0. 0. 0.]\n",
            " [0. 0. 0. 0. 0. 0. 0. 0. 0. 0. 0. 0. 0. 0. 0. 0. 0. 0. 0. 0. 0. 0. 0. 0.\n",
            "  0. 0. 0. 0. 0. 0. 0. 0. 0. 0. 0. 0. 0. 0. 0. 0.]\n",
            " [0. 0. 0. 0. 0. 0. 0. 0. 0. 0. 0. 0. 0. 0. 0. 0. 0. 0. 0. 0. 0. 0. 0. 0.\n",
            "  0. 0. 0. 0. 0. 0. 0. 0. 0. 0. 0. 0. 0. 0. 0. 0.]\n",
            " [0. 0. 0. 0. 0. 0. 0. 0. 0. 0. 0. 0. 0. 0. 0. 0. 0. 0. 0. 0. 0. 0. 0. 0.\n",
            "  0. 0. 0. 0. 0. 0. 0. 0. 0. 0. 0. 0. 0. 0. 0. 0.]\n",
            " [0. 0. 0. 0. 0. 0. 0. 0. 0. 0. 0. 0. 0. 0. 0. 0. 0. 0. 0. 0. 0. 0. 0. 0.\n",
            "  0. 0. 0. 0. 0. 0. 0. 0. 0. 0. 0. 0. 0. 0. 0. 0.]\n",
            " [0. 0. 0. 0. 0. 0. 0. 0. 0. 0. 0. 0. 0. 0. 0. 0. 0. 0. 0. 0. 0. 0. 0. 0.\n",
            "  0. 0. 0. 0. 0. 0. 0. 0. 0. 0. 0. 0. 0. 0. 0. 0.]\n",
            " [0. 0. 0. 0. 0. 0. 0. 0. 0. 0. 0. 0. 0. 0. 0. 0. 0. 0. 0. 0. 0. 0. 0. 0.\n",
            "  0. 0. 0. 0. 0. 0. 0. 0. 0. 0. 0. 0. 0. 0. 0. 0.]\n",
            " [0. 0. 0. 0. 0. 0. 0. 0. 0. 0. 0. 0. 0. 0. 0. 0. 0. 0. 0. 0. 0. 0. 0. 0.\n",
            "  0. 0. 0. 0. 0. 0. 0. 0. 0. 0. 0. 0. 0. 0. 0. 0.]\n",
            " [0. 0. 0. 0. 0. 0. 0. 0. 0. 0. 0. 0. 0. 0. 0. 0. 0. 0. 0. 0. 0. 0. 0. 0.\n",
            "  0. 0. 0. 0. 0. 0. 0. 0. 0. 0. 0. 0. 0. 0. 0. 0.]\n",
            " [0. 0. 0. 0. 0. 0. 0. 0. 0. 0. 0. 0. 0. 0. 0. 0. 0. 0. 0. 0. 0. 0. 0. 0.\n",
            "  0. 0. 0. 0. 0. 0. 0. 0. 0. 0. 0. 0. 0. 0. 0. 0.]\n",
            " [0. 0. 0. 0. 0. 0. 0. 0. 0. 0. 0. 0. 0. 0. 0. 0. 0. 0. 0. 0. 0. 0. 0. 0.\n",
            "  0. 0. 0. 0. 0. 0. 0. 0. 0. 0. 0. 0. 0. 0. 0. 0.]\n",
            " [0. 0. 0. 0. 0. 0. 0. 0. 0. 0. 0. 0. 0. 0. 0. 0. 0. 0. 0. 0. 0. 0. 0. 0.\n",
            "  0. 0. 0. 0. 0. 0. 0. 0. 0. 0. 0. 0. 0. 0. 0. 0.]\n",
            " [0. 0. 0. 0. 0. 0. 0. 0. 0. 0. 0. 0. 0. 0. 0. 0. 0. 0. 0. 0. 0. 0. 0. 0.\n",
            "  0. 0. 0. 0. 0. 0. 0. 0. 0. 0. 0. 0. 0. 0. 0. 0.]\n",
            " [0. 0. 0. 0. 0. 0. 0. 0. 0. 0. 0. 0. 0. 0. 0. 0. 0. 0. 0. 0. 0. 0. 0. 0.\n",
            "  0. 0. 0. 0. 0. 0. 0. 0. 0. 0. 0. 0. 0. 0. 0. 0.]\n",
            " [0. 0. 0. 0. 0. 0. 0. 0. 0. 0. 0. 0. 0. 0. 0. 0. 0. 0. 0. 0. 0. 0. 0. 0.\n",
            "  0. 0. 0. 0. 0. 0. 0. 0. 0. 0. 0. 0. 0. 0. 0. 0.]\n",
            " [0. 0. 0. 0. 0. 0. 0. 0. 0. 0. 0. 0. 0. 0. 0. 0. 0. 0. 0. 0. 0. 0. 0. 0.\n",
            "  0. 0. 0. 0. 0. 0. 0. 0. 0. 0. 0. 0. 0. 0. 0. 0.]\n",
            " [0. 0. 0. 0. 0. 0. 0. 0. 0. 0. 0. 0. 0. 0. 0. 0. 0. 0. 0. 0. 0. 0. 0. 0.\n",
            "  0. 0. 0. 0. 0. 0. 0. 0. 0. 0. 0. 0. 0. 0. 0. 0.]\n",
            " [0. 0. 0. 0. 0. 0. 0. 0. 0. 0. 0. 0. 0. 0. 0. 0. 0. 0. 0. 0. 0. 0. 0. 0.\n",
            "  0. 0. 0. 0. 0. 0. 0. 0. 0. 0. 0. 0. 0. 0. 0. 0.]\n",
            " [0. 0. 0. 0. 0. 0. 0. 0. 0. 0. 0. 0. 0. 0. 0. 0. 0. 0. 0. 0. 0. 0. 0. 0.\n",
            "  0. 0. 0. 0. 0. 0. 0. 0. 0. 0. 0. 0. 0. 0. 0. 0.]\n",
            " [0. 0. 0. 0. 0. 0. 0. 0. 0. 0. 0. 0. 0. 0. 0. 0. 0. 0. 0. 0. 0. 0. 0. 0.\n",
            "  0. 0. 0. 0. 0. 0. 0. 0. 0. 0. 0. 0. 0. 0. 0. 0.]\n",
            " [0. 0. 0. 0. 0. 0. 0. 0. 0. 0. 0. 0. 0. 0. 0. 0. 0. 0. 0. 0. 0. 0. 0. 0.\n",
            "  0. 0. 0. 0. 0. 0. 0. 0. 0. 0. 0. 0. 0. 0. 0. 0.]\n",
            " [0. 0. 0. 0. 0. 0. 0. 0. 0. 0. 0. 0. 0. 0. 0. 0. 0. 0. 0. 0. 0. 0. 0. 0.\n",
            "  0. 0. 0. 0. 0. 0. 0. 0. 0. 0. 0. 0. 0. 0. 0. 0.]\n",
            " [0. 0. 0. 0. 0. 0. 0. 0. 0. 0. 0. 0. 0. 0. 0. 0. 0. 0. 0. 0. 0. 0. 0. 0.\n",
            "  0. 0. 0. 0. 0. 0. 0. 0. 0. 0. 0. 0. 0. 0. 0. 0.]\n",
            " [0. 0. 0. 0. 0. 0. 0. 0. 0. 0. 0. 0. 0. 0. 0. 0. 0. 0. 0. 0. 0. 0. 0. 0.\n",
            "  0. 0. 0. 0. 0. 0. 0. 0. 0. 0. 0. 0. 0. 0. 0. 0.]\n",
            " [0. 0. 0. 0. 0. 0. 0. 0. 0. 0. 0. 0. 0. 0. 0. 0. 0. 0. 0. 0. 0. 0. 0. 0.\n",
            "  0. 0. 0. 0. 0. 0. 0. 0. 0. 0. 0. 0. 0. 0. 0. 0.]\n",
            " [0. 0. 0. 0. 0. 0. 0. 0. 0. 0. 0. 0. 0. 0. 0. 0. 0. 0. 0. 0. 0. 0. 0. 0.\n",
            "  0. 0. 0. 0. 0. 0. 0. 0. 0. 0. 0. 0. 0. 0. 0. 0.]\n",
            " [0. 0. 0. 0. 0. 0. 0. 0. 0. 0. 0. 0. 0. 0. 0. 0. 0. 0. 0. 0. 0. 0. 0. 0.\n",
            "  0. 0. 0. 0. 0. 0. 0. 0. 0. 0. 0. 0. 0. 0. 0. 0.]\n",
            " [0. 0. 0. 0. 0. 0. 0. 0. 0. 0. 0. 0. 0. 0. 0. 0. 0. 0. 0. 0. 0. 0. 0. 0.\n",
            "  0. 0. 0. 0. 0. 0. 0. 0. 0. 0. 0. 0. 0. 0. 0. 0.]\n",
            " [0. 0. 0. 0. 0. 0. 0. 0. 0. 0. 0. 0. 0. 0. 0. 0. 0. 0. 0. 0. 0. 0. 0. 0.\n",
            "  0. 0. 0. 0. 0. 0. 0. 0. 0. 0. 0. 0. 0. 0. 0. 0.]\n",
            " [0. 0. 0. 0. 0. 0. 0. 0. 0. 0. 0. 0. 0. 0. 0. 0. 0. 0. 0. 0. 0. 0. 0. 0.\n",
            "  0. 0. 0. 0. 0. 0. 0. 0. 0. 0. 0. 0. 0. 0. 0. 0.]\n",
            " [0. 0. 0. 0. 0. 0. 0. 0. 0. 0. 0. 0. 0. 0. 0. 0. 0. 0. 0. 0. 0. 0. 0. 0.\n",
            "  0. 0. 0. 0. 0. 0. 0. 0. 0. 0. 0. 0. 0. 0. 0. 0.]\n",
            " [0. 0. 0. 0. 0. 0. 0. 0. 0. 0. 0. 0. 0. 0. 0. 0. 0. 0. 0. 0. 0. 0. 0. 0.\n",
            "  0. 0. 0. 0. 0. 0. 0. 0. 0. 0. 0. 0. 0. 0. 0. 0.]\n",
            " [0. 0. 0. 0. 0. 0. 0. 0. 0. 0. 0. 0. 0. 0. 0. 0. 0. 0. 0. 0. 0. 0. 0. 0.\n",
            "  0. 0. 0. 0. 0. 0. 0. 0. 0. 0. 0. 0. 0. 0. 0. 0.]]\n"
          ]
        }
      ],
      "source": [
        "np.set_printoptions(threshold=float(\"inf\"))\n",
        "a = np.zeros((40,40))\n",
        "print(a)"
      ]
    },
    {
      "cell_type": "markdown",
      "metadata": {
        "id": "0cBfltUrBq6g"
      },
      "source": [
        "#### 50. How to find the closest value (to a given scalar) in a vector? (★★☆) \n",
        "(**hint**: argmin)"
      ]
    },
    {
      "cell_type": "code",
      "execution_count": null,
      "metadata": {
        "id": "RpfhSlOUBq6n",
        "colab": {
          "base_uri": "https://localhost:8080/"
        },
        "outputId": "136e257d-ec9b-4465-c2f4-9ba477d33ca9"
      },
      "outputs": [
        {
          "output_type": "stream",
          "name": "stdout",
          "text": [
            "99\n"
          ]
        }
      ],
      "source": [
        "v1 = np.arange(100)\n",
        "v = np.random.uniform(0,100)\n",
        "index = (np.abs(v1-v)).argmin()\n",
        "print(v1[index])"
      ]
    },
    {
      "cell_type": "markdown",
      "metadata": {
        "id": "UJgeogduBq6n"
      },
      "source": [
        "#### 51. Create a structured array representing a position (x,y) and a color (r,g,b) (★★☆) \n",
        "(**hint**: dtype)"
      ]
    },
    {
      "cell_type": "code",
      "execution_count": 4,
      "metadata": {
        "id": "Eyq8xo6SBq6n",
        "colab": {
          "base_uri": "https://localhost:8080/"
        },
        "outputId": "a2671f7d-aaeb-4e97-b26f-5e38b014e253"
      },
      "outputs": [
        {
          "output_type": "stream",
          "name": "stdout",
          "text": [
            "[((0., 0.), (0., 0., 0.)) ((0., 0.), (0., 0., 0.))\n",
            " ((0., 0.), (0., 0., 0.)) ((0., 0.), (0., 0., 0.))\n",
            " ((0., 0.), (0., 0., 0.)) ((0., 0.), (0., 0., 0.))\n",
            " ((0., 0.), (0., 0., 0.)) ((0., 0.), (0., 0., 0.))\n",
            " ((0., 0.), (0., 0., 0.)) ((0., 0.), (0., 0., 0.))]\n"
          ]
        },
        {
          "output_type": "stream",
          "name": "stderr",
          "text": [
            "/usr/local/lib/python3.7/dist-packages/ipykernel_launcher.py:6: FutureWarning: Passing (type, 1) or '1type' as a synonym of type is deprecated; in a future version of numpy, it will be understood as (type, (1,)) / '(1,)type'.\n",
            "  \n"
          ]
        }
      ],
      "source": [
        "import numpy as np\n",
        "a = np.zeros(10, [ ('position', [ ('x', float, 1),\n",
        "                                  ('y', float, 1)]),\n",
        "                   ('color',    [ ('r', float, 1),\n",
        "                                  ('g', float, 1),\n",
        "                                  ('b', float, 1)])])\n",
        "print(a)"
      ]
    },
    {
      "cell_type": "markdown",
      "metadata": {
        "id": "OI6Rt5RnBq6n"
      },
      "source": [
        "#### 52. Consider a random vector with shape (100,2) representing coordinates, find point by point distances (★★☆) \n",
        "(**hint**: np.atleast\\_2d, T, np.sqrt)"
      ]
    },
    {
      "cell_type": "code",
      "execution_count": 6,
      "metadata": {
        "id": "nVEsfd06Bq6o",
        "colab": {
          "base_uri": "https://localhost:8080/"
        },
        "outputId": "65d248d0-ebed-496a-9867-68681259a089"
      },
      "outputs": [
        {
          "output_type": "stream",
          "name": "stdout",
          "text": [
            "[[0.         0.42959004 0.34734529 ... 0.51359395 0.51924498 0.43354654]\n",
            " [0.42959004 0.         0.40970884 ... 0.44949871 0.93967499 0.49315165]\n",
            " [0.34734529 0.40970884 0.         ... 0.17306197 0.6793449  0.71502556]\n",
            " ...\n",
            " [0.51359395 0.44949871 0.17306197 ... 0.         0.83515334 0.84380147]\n",
            " [0.51924498 0.93967499 0.6793449  ... 0.83515334 0.         0.85103147]\n",
            " [0.43354654 0.49315165 0.71502556 ... 0.84380147 0.85103147 0.        ]]\n"
          ]
        }
      ],
      "source": [
        "r = np.random.random((100,2))\n",
        "X,Y = np.atleast_2d(r[:,0], r[:,1])\n",
        "D = np.sqrt( (X-X.T)**2 + (Y-Y.T)**2)\n",
        "print(D)"
      ]
    },
    {
      "cell_type": "markdown",
      "metadata": {
        "id": "Q2Dru_mZBq6o"
      },
      "source": [
        "#### 53. How to convert a float (32 bits) array into an integer (32 bits) in place? \n",
        "(**hint**: astype(copy=False))"
      ]
    },
    {
      "cell_type": "code",
      "execution_count": 7,
      "metadata": {
        "id": "4b4DwsxoBq6o",
        "colab": {
          "base_uri": "https://localhost:8080/"
        },
        "outputId": "75e03369-d40f-4c0d-e8d5-381c652a69a9"
      },
      "outputs": [
        {
          "output_type": "stream",
          "name": "stdout",
          "text": [
            "[63  6 12 81 92 70 93 47 35 65]\n"
          ]
        }
      ],
      "source": [
        "Z = (np.random.rand(10)*100).astype(np.float32)\n",
        "Y = Z.view(np.int32)\n",
        "Y[:] = Z\n",
        "print(Y)"
      ]
    },
    {
      "cell_type": "markdown",
      "metadata": {
        "id": "6JhMO12HBq6o"
      },
      "source": [
        "#### 54. How to read the following file? (★★☆) \n",
        "(**hint**: np.genfromtxt)"
      ]
    },
    {
      "cell_type": "markdown",
      "metadata": {
        "id": "RNbDuKPBBq6p"
      },
      "source": [
        "\n",
        "```\n",
        "1, 2, 3, 4, 5\n",
        "6,  ,  , 7, 8\n",
        " ,  , 9,10,11\n",
        "```"
      ]
    },
    {
      "cell_type": "code",
      "execution_count": 10,
      "metadata": {
        "id": "C82Wv1IOBq6p",
        "colab": {
          "base_uri": "https://localhost:8080/"
        },
        "outputId": "0a1a089d-cfeb-476b-f0c0-7be8e18ab84e"
      },
      "outputs": [
        {
          "output_type": "stream",
          "name": "stdout",
          "text": [
            "[[ 1  2  3  4  5]\n",
            " [ 6 -1 -1  7  8]\n",
            " [-1 -1  9 10 11]]\n"
          ]
        },
        {
          "output_type": "stream",
          "name": "stderr",
          "text": [
            "/usr/local/lib/python3.7/dist-packages/ipykernel_launcher.py:7: DeprecationWarning: `np.int` is a deprecated alias for the builtin `int`. To silence this warning, use `int` by itself. Doing this will not modify any behavior and is safe. When replacing `np.int`, you may wish to use e.g. `np.int64` or `np.int32` to specify the precision. If you wish to review your current use, check the release note link for additional information.\n",
            "Deprecated in NumPy 1.20; for more details and guidance: https://numpy.org/devdocs/release/1.20.0-notes.html#deprecations\n",
            "  import sys\n"
          ]
        }
      ],
      "source": [
        "import numpy as np\n",
        "from io import StringIO\n",
        "s = StringIO('''1, 2, 3, 4, 5\n",
        "                6,  ,  , 7, 8\n",
        "                 ,  , 9,10,11\n",
        "''')\n",
        "Z = np.genfromtxt(s, delimiter=\",\", dtype=np.int)\n",
        "print(Z)"
      ]
    },
    {
      "cell_type": "markdown",
      "metadata": {
        "id": "HpEob9-7Bq6p"
      },
      "source": [
        "#### 55. What is the equivalent of enumerate for numpy arrays? (★★☆) \n",
        "(**hint**: np.ndenumerate, np.ndindex)"
      ]
    },
    {
      "cell_type": "code",
      "execution_count": 11,
      "metadata": {
        "id": "ZiBzdq2MBq6p",
        "colab": {
          "base_uri": "https://localhost:8080/"
        },
        "outputId": "8d949bfe-5ef3-40d8-f489-fcb374ea19ff"
      },
      "outputs": [
        {
          "output_type": "stream",
          "name": "stdout",
          "text": [
            "(0, 0) 0\n",
            "(0, 1) 1\n",
            "(0, 2) 2\n",
            "(1, 0) 3\n",
            "(1, 1) 4\n",
            "(1, 2) 5\n",
            "(2, 0) 6\n",
            "(2, 1) 7\n",
            "(2, 2) 8\n",
            "(0, 0) 0\n",
            "(0, 1) 1\n",
            "(0, 2) 2\n",
            "(1, 0) 3\n",
            "(1, 1) 4\n",
            "(1, 2) 5\n",
            "(2, 0) 6\n",
            "(2, 1) 7\n",
            "(2, 2) 8\n"
          ]
        }
      ],
      "source": [
        "Z = np.arange(9).reshape(3,3)\n",
        "for index, value in np.ndenumerate(Z):\n",
        "    print(index, value)\n",
        "for index in np.ndindex(Z.shape):\n",
        "    print(index, Z[index])"
      ]
    },
    {
      "cell_type": "markdown",
      "metadata": {
        "id": "vP4FBh16Bq6q"
      },
      "source": [
        "#### 56. Generate a generic 2D Gaussian-like array (★★☆) \n",
        "(**hint**: np.meshgrid, np.exp)"
      ]
    },
    {
      "cell_type": "code",
      "execution_count": 12,
      "metadata": {
        "id": "w5J45PChBq6q",
        "colab": {
          "base_uri": "https://localhost:8080/"
        },
        "outputId": "ba0c1004-7a79-4ea0-f2dd-6530c3914651"
      },
      "outputs": [
        {
          "output_type": "stream",
          "name": "stdout",
          "text": [
            "[[0.36787944 0.44822088 0.51979489 0.57375342 0.60279818 0.60279818\n",
            "  0.57375342 0.51979489 0.44822088 0.36787944]\n",
            " [0.44822088 0.54610814 0.63331324 0.69905581 0.73444367 0.73444367\n",
            "  0.69905581 0.63331324 0.54610814 0.44822088]\n",
            " [0.51979489 0.63331324 0.73444367 0.81068432 0.85172308 0.85172308\n",
            "  0.81068432 0.73444367 0.63331324 0.51979489]\n",
            " [0.57375342 0.69905581 0.81068432 0.89483932 0.9401382  0.9401382\n",
            "  0.89483932 0.81068432 0.69905581 0.57375342]\n",
            " [0.60279818 0.73444367 0.85172308 0.9401382  0.98773022 0.98773022\n",
            "  0.9401382  0.85172308 0.73444367 0.60279818]\n",
            " [0.60279818 0.73444367 0.85172308 0.9401382  0.98773022 0.98773022\n",
            "  0.9401382  0.85172308 0.73444367 0.60279818]\n",
            " [0.57375342 0.69905581 0.81068432 0.89483932 0.9401382  0.9401382\n",
            "  0.89483932 0.81068432 0.69905581 0.57375342]\n",
            " [0.51979489 0.63331324 0.73444367 0.81068432 0.85172308 0.85172308\n",
            "  0.81068432 0.73444367 0.63331324 0.51979489]\n",
            " [0.44822088 0.54610814 0.63331324 0.69905581 0.73444367 0.73444367\n",
            "  0.69905581 0.63331324 0.54610814 0.44822088]\n",
            " [0.36787944 0.44822088 0.51979489 0.57375342 0.60279818 0.60279818\n",
            "  0.57375342 0.51979489 0.44822088 0.36787944]]\n"
          ]
        }
      ],
      "source": [
        "X, Y = np.meshgrid(np.linspace(-1,1,10), np.linspace(-1,1,10))\n",
        "D = np.sqrt(X*X+Y*Y)\n",
        "sigma, mu = 1.0, 0.0\n",
        "G = np.exp(-( (D-mu)**2 / ( 2.0 * sigma**2 ) ) )\n",
        "print(G)"
      ]
    },
    {
      "cell_type": "markdown",
      "metadata": {
        "id": "Yt-GkMWRBq6q"
      },
      "source": [
        "#### 57. How to randomly place p elements in a 2D array? (★★☆) \n",
        "(**hint**: np.put, np.random.choice)"
      ]
    },
    {
      "cell_type": "code",
      "execution_count": 13,
      "metadata": {
        "id": "FD79Fdd5Bq6q",
        "colab": {
          "base_uri": "https://localhost:8080/"
        },
        "outputId": "5022885d-2d6b-4836-96b9-686e2a032023"
      },
      "outputs": [
        {
          "output_type": "stream",
          "name": "stdout",
          "text": [
            "[[0. 1. 0. 0. 0. 0. 0. 0. 0. 1.]\n",
            " [0. 0. 0. 0. 0. 0. 0. 0. 0. 0.]\n",
            " [0. 0. 0. 0. 0. 0. 0. 0. 0. 0.]\n",
            " [0. 0. 0. 0. 0. 0. 0. 0. 0. 0.]\n",
            " [0. 0. 0. 0. 0. 0. 0. 0. 0. 0.]\n",
            " [0. 0. 0. 0. 0. 0. 0. 0. 0. 0.]\n",
            " [0. 0. 0. 0. 0. 0. 0. 0. 0. 0.]\n",
            " [0. 0. 0. 0. 0. 0. 0. 0. 1. 0.]\n",
            " [0. 0. 0. 0. 0. 0. 0. 0. 0. 0.]\n",
            " [0. 0. 0. 0. 0. 0. 0. 0. 0. 0.]]\n"
          ]
        }
      ],
      "source": [
        "n = 10\n",
        "p = 3\n",
        "Z = np.zeros((n,n))\n",
        "np.put(Z, np.random.choice(range(n*n), p, replace=False),1)\n",
        "print(Z)"
      ]
    },
    {
      "cell_type": "markdown",
      "metadata": {
        "id": "lmZgvKSMBq6q"
      },
      "source": [
        "#### 58. Subtract the mean of each row of a matrix (★★☆) \n",
        "(**hint**: mean(axis=,keepdims=))"
      ]
    },
    {
      "cell_type": "code",
      "execution_count": 14,
      "metadata": {
        "id": "QL-sW1n7Bq6r",
        "colab": {
          "base_uri": "https://localhost:8080/"
        },
        "outputId": "e0041984-d48a-445f-94a8-7b6b6f3adec1"
      },
      "outputs": [
        {
          "output_type": "stream",
          "name": "stdout",
          "text": [
            "[[ 0.04429427 -0.27382061  0.20832445  0.26220095 -0.50508149  0.06063669\n",
            "   0.17928538 -0.28961247 -0.05074347  0.3645163 ]\n",
            " [ 0.00400547  0.16851364 -0.52883372  0.38982942 -0.25419465  0.32653873\n",
            "  -0.15598315 -0.21461254  0.26403271  0.00070409]\n",
            " [-0.43674829 -0.49900506 -0.35663776 -0.0425111   0.07877928  0.19503556\n",
            "   0.07865532  0.35135023  0.40238516  0.22869666]\n",
            " [ 0.4421502  -0.34212282  0.03344117 -0.37198543 -0.10720747  0.01324797\n",
            "  -0.08637173  0.34780123 -0.23492352  0.30597041]\n",
            " [ 0.24955698  0.33731951  0.02157963  0.26017046 -0.50041536 -0.32197753\n",
            "   0.27064079  0.03750547 -0.45042614  0.09604618]]\n"
          ]
        }
      ],
      "source": [
        "X = np.random.rand(5, 10)\n",
        "\n",
        "# Recent versions of numpy\n",
        "Y = X - X.mean(axis=1, keepdims=True)\n",
        "\n",
        "# Older versions of numpy\n",
        "Y = X - X.mean(axis=1).reshape(-1, 1)\n",
        "\n",
        "print(Y)"
      ]
    },
    {
      "cell_type": "markdown",
      "metadata": {
        "id": "J-sj6lRzBq6r"
      },
      "source": [
        "#### 59. How to sort an array by the nth column? (★★☆) \n",
        "(**hint**: argsort)"
      ]
    },
    {
      "cell_type": "code",
      "execution_count": 15,
      "metadata": {
        "id": "oTyKx2kTBq6r",
        "colab": {
          "base_uri": "https://localhost:8080/"
        },
        "outputId": "f3ab5af6-8786-47a5-a691-aa3afbb418ef"
      },
      "outputs": [
        {
          "output_type": "stream",
          "name": "stdout",
          "text": [
            "[[7 6 9]\n",
            " [6 7 4]\n",
            " [5 4 5]]\n",
            "[[5 4 5]\n",
            " [7 6 9]\n",
            " [6 7 4]]\n"
          ]
        }
      ],
      "source": [
        "Z = np.random.randint(0,10,(3,3))\n",
        "print(Z)\n",
        "print(Z[Z[:,1].argsort()])"
      ]
    },
    {
      "cell_type": "markdown",
      "metadata": {
        "id": "wEiLcktOBq6r"
      },
      "source": [
        "#### 60. How to tell if a given 2D array has null columns? (★★☆) \n",
        "(**hint**: any, ~)"
      ]
    },
    {
      "cell_type": "code",
      "execution_count": 16,
      "metadata": {
        "id": "YChfpZ1bBq6s",
        "colab": {
          "base_uri": "https://localhost:8080/"
        },
        "outputId": "b0b2c07d-9e8f-46a1-af61-9eb9fd39881f"
      },
      "outputs": [
        {
          "output_type": "stream",
          "name": "stdout",
          "text": [
            "False\n"
          ]
        }
      ],
      "source": [
        "Z = np.random.randint(0,3,(3,10))\n",
        "print((~Z.any(axis=0)).any())"
      ]
    },
    {
      "cell_type": "markdown",
      "metadata": {
        "id": "Jx2kYrSeBq6s"
      },
      "source": [
        "#### 61. Find the nearest value from a given value in an array (★★☆) \n",
        "(**hint**: np.abs, argmin, flat)"
      ]
    },
    {
      "cell_type": "code",
      "execution_count": 17,
      "metadata": {
        "id": "QO-8DKC4Bq6s",
        "colab": {
          "base_uri": "https://localhost:8080/"
        },
        "outputId": "1978d40f-9649-4538-cd6f-9867c95ac334"
      },
      "outputs": [
        {
          "output_type": "stream",
          "name": "stdout",
          "text": [
            "0.4957032421012679\n"
          ]
        }
      ],
      "source": [
        "Z = np.random.uniform(0,1,10)\n",
        "z = 0.5\n",
        "m = Z.flat[np.abs(Z - z).argmin()]\n",
        "print(m)"
      ]
    },
    {
      "cell_type": "markdown",
      "metadata": {
        "id": "wZAZI63sBq6t"
      },
      "source": [
        "#### 62. Considering two arrays with shape (1,3) and (3,1), how to compute their sum using an iterator? (★★☆) \n",
        "(**hint**: np.nditer)"
      ]
    },
    {
      "cell_type": "code",
      "execution_count": 18,
      "metadata": {
        "id": "Tkv414DDBq6t",
        "colab": {
          "base_uri": "https://localhost:8080/"
        },
        "outputId": "7ca083f0-d753-4ea5-d616-6054030232ef"
      },
      "outputs": [
        {
          "output_type": "stream",
          "name": "stdout",
          "text": [
            "[[0 1 2]\n",
            " [1 2 3]\n",
            " [2 3 4]]\n"
          ]
        }
      ],
      "source": [
        "A = np.arange(3).reshape(3,1)\n",
        "B = np.arange(3).reshape(1,3)\n",
        "it = np.nditer([A,B,None])\n",
        "for x,y,z in it: z[...] = x + y\n",
        "print(it.operands[2])"
      ]
    },
    {
      "cell_type": "markdown",
      "metadata": {
        "id": "KIXtUM4-Bq6t"
      },
      "source": [
        "#### 63. Create an array class that has a name attribute (★★☆) \n",
        "(**hint**: class method)"
      ]
    },
    {
      "cell_type": "code",
      "execution_count": 19,
      "metadata": {
        "id": "qnHyl8IaBq6t",
        "colab": {
          "base_uri": "https://localhost:8080/"
        },
        "outputId": "c0a9b8d0-32a6-4395-bc91-605427365cbd"
      },
      "outputs": [
        {
          "output_type": "stream",
          "name": "stdout",
          "text": [
            "range_10\n"
          ]
        }
      ],
      "source": [
        "class NamedArray(np.ndarray):\n",
        "    def __new__(cls, array, name=\"no name\"):\n",
        "        obj = np.asarray(array).view(cls)\n",
        "        obj.name = name\n",
        "        return obj\n",
        "    def __array_finalize__(self, obj):\n",
        "        if obj is None: return\n",
        "        self.info = getattr(obj, 'name', \"no name\")\n",
        "\n",
        "Z = NamedArray(np.arange(10), \"range_10\")\n",
        "print (Z.name)"
      ]
    },
    {
      "cell_type": "markdown",
      "metadata": {
        "id": "iLaD-HEJBq6t"
      },
      "source": [
        "#### 64. Consider a given vector, how to add 1 to each element indexed by a second vector (be careful with repeated indices)? (★★★) \n",
        "(**hint**: np.bincount | np.add.at)"
      ]
    },
    {
      "cell_type": "code",
      "execution_count": 20,
      "metadata": {
        "id": "UQ0ZoZg7Bq6u",
        "colab": {
          "base_uri": "https://localhost:8080/"
        },
        "outputId": "788e1d7b-7f67-4907-d20a-5b260bd34c0c"
      },
      "outputs": [
        {
          "output_type": "stream",
          "name": "stdout",
          "text": [
            "[4. 4. 2. 2. 3. 4. 3. 2. 1. 5.]\n",
            "[7. 7. 3. 3. 5. 7. 5. 3. 1. 9.]\n"
          ]
        }
      ],
      "source": [
        "Z = np.ones(10)\n",
        "I = np.random.randint(0,len(Z),20)\n",
        "Z += np.bincount(I, minlength=len(Z))\n",
        "print(Z)\n",
        "\n",
        "# Another solution\n",
        "# Author: Bartosz Telenczuk\n",
        "np.add.at(Z, I, 1)\n",
        "print(Z)"
      ]
    },
    {
      "cell_type": "markdown",
      "metadata": {
        "id": "j3ikggAdBq6u"
      },
      "source": [
        "#### 65. How to accumulate elements of a vector (X) to an array (F) based on an index list (I)? (★★★) \n",
        "(**hint**: np.bincount)"
      ]
    },
    {
      "cell_type": "code",
      "execution_count": 21,
      "metadata": {
        "id": "Aq3Hxd-eBq6u",
        "colab": {
          "base_uri": "https://localhost:8080/"
        },
        "outputId": "510a028e-a965-471c-bb41-f179a60f1477"
      },
      "outputs": [
        {
          "output_type": "stream",
          "name": "stdout",
          "text": [
            "[0. 7. 0. 6. 5. 0. 0. 0. 0. 3.]\n"
          ]
        }
      ],
      "source": [
        "X = [1,2,3,4,5,6]\n",
        "I = [1,3,9,3,4,1]\n",
        "F = np.bincount(I,X)\n",
        "print(F)"
      ]
    },
    {
      "cell_type": "markdown",
      "metadata": {
        "id": "oRM8BCHeBq6u"
      },
      "source": [
        "#### 66. Considering a (w,h,3) image of (dtype=ubyte), compute the number of unique colors (★★★) \n",
        "(**hint**: np.unique)"
      ]
    },
    {
      "cell_type": "code",
      "execution_count": 22,
      "metadata": {
        "id": "ECmRWHK-Bq6v",
        "colab": {
          "base_uri": "https://localhost:8080/"
        },
        "outputId": "d0fc60e3-3c4c-49e7-c495-6442586703ec"
      },
      "outputs": [
        {
          "output_type": "stream",
          "name": "stdout",
          "text": [
            "64\n"
          ]
        }
      ],
      "source": [
        "w, h = 256, 256\n",
        "I = np.random.randint(0, 4, (h, w, 3)).astype(np.ubyte)\n",
        "colors = np.unique(I.reshape(-1, 3), axis=0)\n",
        "n = len(colors)\n",
        "print(n)"
      ]
    },
    {
      "cell_type": "markdown",
      "metadata": {
        "id": "W4yYgzp9Bq6v"
      },
      "source": [
        "#### 67. Considering a four dimensions array, how to get sum over the last two axis at once? (★★★) \n",
        "(**hint**: sum(axis=(-2,-1)))"
      ]
    },
    {
      "cell_type": "code",
      "execution_count": 23,
      "metadata": {
        "id": "AeCHJJ-0Bq6v",
        "colab": {
          "base_uri": "https://localhost:8080/"
        },
        "outputId": "c930000c-74f3-4874-83df-4eaaa419b9d3"
      },
      "outputs": [
        {
          "output_type": "stream",
          "name": "stdout",
          "text": [
            "[[53 53 51 41]\n",
            " [41 53 60 59]\n",
            " [51 50 56 53]]\n",
            "[[53 53 51 41]\n",
            " [41 53 60 59]\n",
            " [51 50 56 53]]\n"
          ]
        }
      ],
      "source": [
        "A = np.random.randint(0,10,(3,4,3,4))\n",
        "# solution by passing a tuple of axes (introduced in numpy 1.7.0)\n",
        "sum = A.sum(axis=(-2,-1))\n",
        "print(sum)\n",
        "# solution by flattening the last two dimensions into one\n",
        "# (useful for functions that don't accept tuples for axis argument)\n",
        "sum = A.reshape(A.shape[:-2] + (-1,)).sum(axis=-1)\n",
        "print(sum)"
      ]
    },
    {
      "cell_type": "markdown",
      "metadata": {
        "id": "aTTbXUsqBq6v"
      },
      "source": [
        "#### 68. Considering a one-dimensional vector D, how to compute means of subsets of D using a vector S of same size describing subset  indices? (★★★) \n",
        "(**hint**: np.bincount)"
      ]
    },
    {
      "cell_type": "code",
      "execution_count": 24,
      "metadata": {
        "id": "0E2AgWEBBq6v",
        "colab": {
          "base_uri": "https://localhost:8080/"
        },
        "outputId": "c03122f9-d633-4abb-cf85-a1ae0eb14787"
      },
      "outputs": [
        {
          "output_type": "stream",
          "name": "stdout",
          "text": [
            "[0.42389619 0.5108611  0.81686122 0.55462873 0.39290973 0.53398514\n",
            " 0.57720176 0.54586046 0.41639001 0.56440468]\n",
            "0    0.423896\n",
            "1    0.510861\n",
            "2    0.816861\n",
            "3    0.554629\n",
            "4    0.392910\n",
            "5    0.533985\n",
            "6    0.577202\n",
            "7    0.545860\n",
            "8    0.416390\n",
            "9    0.564405\n",
            "dtype: float64\n"
          ]
        }
      ],
      "source": [
        "D = np.random.uniform(0,1,100)\n",
        "S = np.random.randint(0,10,100)\n",
        "D_sums = np.bincount(S, weights=D)\n",
        "D_counts = np.bincount(S)\n",
        "D_means = D_sums / D_counts\n",
        "print(D_means)\n",
        "\n",
        "# Pandas solution as a reference due to more intuitive code\n",
        "import pandas as pd\n",
        "print(pd.Series(D).groupby(S).mean())"
      ]
    },
    {
      "cell_type": "markdown",
      "metadata": {
        "id": "enu4qTq7Bq6w"
      },
      "source": [
        "#### 69. How to get the diagonal of a dot product? (★★★) \n",
        "(**hint**: np.diag)"
      ]
    },
    {
      "cell_type": "code",
      "execution_count": 25,
      "metadata": {
        "id": "szCIkpgJBq6x",
        "colab": {
          "base_uri": "https://localhost:8080/"
        },
        "outputId": "0dc7866b-c694-48fa-afe3-004f2ffd9fea"
      },
      "outputs": [
        {
          "output_type": "execute_result",
          "data": {
            "text/plain": [
              "array([1.28942164, 1.33116047, 1.29735081, 1.07701247, 0.55094543])"
            ]
          },
          "metadata": {},
          "execution_count": 25
        }
      ],
      "source": [
        "A = np.random.uniform(0,1,(5,5))\n",
        "B = np.random.uniform(0,1,(5,5))\n",
        "\n",
        "# Slow version\n",
        "np.diag(np.dot(A, B))\n",
        "\n",
        "# Fast version\n",
        "np.sum(A * B.T, axis=1)\n",
        "\n",
        "# Faster version\n",
        "np.einsum(\"ij,ji->i\", A, B)\n"
      ]
    },
    {
      "cell_type": "markdown",
      "metadata": {
        "id": "xzlviH1cBq6x"
      },
      "source": [
        "#### 70. Consider the vector \\[1, 2, 3, 4, 5\\], how to build a new vector with 3 consecutive zeros interleaved between each value? (★★★) \n",
        "(**hint**: array\\[::4\\])"
      ]
    },
    {
      "cell_type": "code",
      "execution_count": 26,
      "metadata": {
        "id": "XJWvlUgoBq6x",
        "colab": {
          "base_uri": "https://localhost:8080/"
        },
        "outputId": "ee33183e-5b16-4c94-d70c-d2f8a935d244"
      },
      "outputs": [
        {
          "output_type": "stream",
          "name": "stdout",
          "text": [
            "[1. 0. 0. 0. 2. 0. 0. 0. 3. 0. 0. 0. 4. 0. 0. 0. 5.]\n"
          ]
        }
      ],
      "source": [
        "Z = np.array([1,2,3,4,5])\n",
        "nz = 3\n",
        "Z0 = np.zeros(len(Z) + (len(Z)-1)*(nz))\n",
        "Z0[::nz+1] = Z\n",
        "print(Z0)"
      ]
    },
    {
      "cell_type": "markdown",
      "metadata": {
        "id": "oMEfHfTiBq6y"
      },
      "source": [
        "#### 71. Consider an array of dimension (5,5,3), how to mulitply it by an array with dimensions (5,5)? (★★★) \n",
        "(**hint**: array\\[:, :, None\\])"
      ]
    },
    {
      "cell_type": "code",
      "execution_count": 27,
      "metadata": {
        "collapsed": true,
        "id": "WyMtg_NtBq6y",
        "colab": {
          "base_uri": "https://localhost:8080/"
        },
        "outputId": "0a2a9e48-a244-4694-b60d-3be03b0a3b3f"
      },
      "outputs": [
        {
          "output_type": "stream",
          "name": "stdout",
          "text": [
            "[[[2. 2. 2.]\n",
            "  [2. 2. 2.]\n",
            "  [2. 2. 2.]\n",
            "  [2. 2. 2.]\n",
            "  [2. 2. 2.]]\n",
            "\n",
            " [[2. 2. 2.]\n",
            "  [2. 2. 2.]\n",
            "  [2. 2. 2.]\n",
            "  [2. 2. 2.]\n",
            "  [2. 2. 2.]]\n",
            "\n",
            " [[2. 2. 2.]\n",
            "  [2. 2. 2.]\n",
            "  [2. 2. 2.]\n",
            "  [2. 2. 2.]\n",
            "  [2. 2. 2.]]\n",
            "\n",
            " [[2. 2. 2.]\n",
            "  [2. 2. 2.]\n",
            "  [2. 2. 2.]\n",
            "  [2. 2. 2.]\n",
            "  [2. 2. 2.]]\n",
            "\n",
            " [[2. 2. 2.]\n",
            "  [2. 2. 2.]\n",
            "  [2. 2. 2.]\n",
            "  [2. 2. 2.]\n",
            "  [2. 2. 2.]]]\n"
          ]
        }
      ],
      "source": [
        "A = np.ones((5,5,3))\n",
        "B = 2*np.ones((5,5))\n",
        "print(A * B[:,:,None])"
      ]
    },
    {
      "cell_type": "markdown",
      "metadata": {
        "id": "1b90UWBmBq6y"
      },
      "source": [
        "#### 72. How to swap two rows of an array? (★★★) \n",
        "(**hint**: array\\[\\[\\]\\] = array\\[\\[\\]\\])"
      ]
    },
    {
      "cell_type": "code",
      "execution_count": 28,
      "metadata": {
        "id": "GW9d4PIwBq6y",
        "colab": {
          "base_uri": "https://localhost:8080/"
        },
        "outputId": "f5c7e601-55ea-4fbb-e5d5-4998654bf37c"
      },
      "outputs": [
        {
          "output_type": "stream",
          "name": "stdout",
          "text": [
            "[[ 5  6  7  8  9]\n",
            " [ 0  1  2  3  4]\n",
            " [10 11 12 13 14]\n",
            " [15 16 17 18 19]\n",
            " [20 21 22 23 24]]\n"
          ]
        }
      ],
      "source": [
        "A = np.arange(25).reshape(5,5)\n",
        "A[[0,1]] = A[[1,0]]\n",
        "print(A)"
      ]
    },
    {
      "cell_type": "markdown",
      "metadata": {
        "id": "JH0sGmZSBq6z"
      },
      "source": [
        "#### 73. Consider a set of 10 triplets describing 10 triangles (with shared vertices), find the set of unique line segments composing all the  triangles (★★★) \n",
        "(**hint**: repeat, np.roll, np.sort, view, np.unique)"
      ]
    },
    {
      "cell_type": "code",
      "execution_count": 29,
      "metadata": {
        "id": "W6C2uqoaBq6z",
        "colab": {
          "base_uri": "https://localhost:8080/"
        },
        "outputId": "02c508ef-982b-4773-bc51-a3fe73a896a7"
      },
      "outputs": [
        {
          "output_type": "stream",
          "name": "stdout",
          "text": [
            "[( 0,  1) ( 0, 15) ( 0, 49) ( 0, 60) ( 1, 15) ( 1, 33) ( 1, 89) ( 4,  5)\n",
            " ( 4, 80) ( 4, 82) ( 4, 87) ( 5, 80) ( 8, 17) ( 8, 83) (17, 83) (19, 70)\n",
            " (19, 80) (24, 33) (24, 53) (27, 34) (27, 92) (33, 53) (33, 89) (34, 92)\n",
            " (49, 60) (68, 83) (68, 87) (70, 80) (82, 87) (83, 87)]\n"
          ]
        }
      ],
      "source": [
        "faces = np.random.randint(0,100,(10,3))\n",
        "F = np.roll(faces.repeat(2,axis=1),-1,axis=1)\n",
        "F = F.reshape(len(F)*3,2)\n",
        "F = np.sort(F,axis=1)\n",
        "G = F.view( dtype=[('p0',F.dtype),('p1',F.dtype)] )\n",
        "G = np.unique(G)\n",
        "print(G)"
      ]
    },
    {
      "cell_type": "markdown",
      "metadata": {
        "id": "fhmdnWcmBq60"
      },
      "source": [
        "#### 74. Given an array C that is a bincount, how to produce an array A such that np.bincount(A) == C? (★★★) \n",
        "(**hint**: np.repeat)"
      ]
    },
    {
      "cell_type": "code",
      "execution_count": 30,
      "metadata": {
        "id": "ZGbdEafKBq60",
        "colab": {
          "base_uri": "https://localhost:8080/"
        },
        "outputId": "fdca950f-82eb-4fa8-8d9b-b8093ed8a4a4"
      },
      "outputs": [
        {
          "output_type": "stream",
          "name": "stdout",
          "text": [
            "[1 1 2 3 4 4 6]\n"
          ]
        }
      ],
      "source": [
        "C = np.bincount([1,1,2,3,4,4,6])\n",
        "A = np.repeat(np.arange(len(C)), C)\n",
        "print(A)"
      ]
    },
    {
      "cell_type": "markdown",
      "metadata": {
        "id": "iVbqqlEXBq60"
      },
      "source": [
        "#### 75. How to compute averages using a sliding window over an array? (★★★) \n",
        "(**hint**: np.cumsum)"
      ]
    },
    {
      "cell_type": "code",
      "execution_count": 31,
      "metadata": {
        "id": "-sP_-7fmBq61",
        "colab": {
          "base_uri": "https://localhost:8080/"
        },
        "outputId": "1cf84547-ecb0-48af-c90a-bac000617bd5"
      },
      "outputs": [
        {
          "output_type": "stream",
          "name": "stdout",
          "text": [
            "[ 1.  2.  3.  4.  5.  6.  7.  8.  9. 10. 11. 12. 13. 14. 15. 16. 17. 18.]\n"
          ]
        }
      ],
      "source": [
        "def moving_average(a, n=3) :\n",
        "    ret = np.cumsum(a, dtype=float)\n",
        "    ret[n:] = ret[n:] - ret[:-n]\n",
        "    return ret[n - 1:] / n\n",
        "Z = np.arange(20)\n",
        "print(moving_average(Z, n=3))"
      ]
    },
    {
      "cell_type": "markdown",
      "metadata": {
        "id": "aTnUm4ZoBq61"
      },
      "source": [
        "#### 76. Consider a one-dimensional array Z, build a two-dimensional array whose first row is (Z\\[0\\],Z\\[1\\],Z\\[2\\]) and each subsequent row is  shifted by 1 (last row should be (Z\\[-3\\],Z\\[-2\\],Z\\[-1\\]) (★★★) \n",
        "(**hint**: from numpy.lib import stride_tricks)"
      ]
    },
    {
      "cell_type": "code",
      "execution_count": 33,
      "metadata": {
        "id": "NXTbkvP9Bq62",
        "colab": {
          "base_uri": "https://localhost:8080/"
        },
        "outputId": "7ed70678-b8c4-4f3c-e672-7db7e00b77f5"
      },
      "outputs": [
        {
          "output_type": "stream",
          "name": "stdout",
          "text": [
            "[[0 1 2]\n",
            " [1 2 3]\n",
            " [2 3 4]\n",
            " [3 4 5]\n",
            " [4 5 6]\n",
            " [5 6 7]\n",
            " [6 7 8]\n",
            " [7 8 9]]\n"
          ]
        }
      ],
      "source": [
        "from numpy.lib import stride_tricks\n",
        "\n",
        "def rolling(a, window):\n",
        "    shape = (a.size - window + 1, window)\n",
        "    strides = (a.strides[0], a.strides[0])\n",
        "    return stride_tricks.as_strided(a, shape=shape, strides=strides)\n",
        "Z = rolling(np.arange(10), 3)\n",
        "print(Z)\n"
      ]
    },
    {
      "cell_type": "markdown",
      "metadata": {
        "id": "kCDneR9lBq62"
      },
      "source": [
        "#### 77. How to negate a boolean, or to change the sign of a float inplace? (★★★) \n",
        "(**hint**: np.logical_not, np.negative)"
      ]
    },
    {
      "cell_type": "code",
      "execution_count": 34,
      "metadata": {
        "id": "10yKyrLrBq62",
        "colab": {
          "base_uri": "https://localhost:8080/"
        },
        "outputId": "97464cdd-94c8-45f2-bf04-e4c36913fc70"
      },
      "outputs": [
        {
          "output_type": "execute_result",
          "data": {
            "text/plain": [
              "array([ 0.49294905,  0.42314363,  0.3772792 , -0.79614488, -0.04238747,\n",
              "        0.86390354,  0.56367752,  0.32326077, -0.34757673,  0.75251958,\n",
              "       -0.03580125, -0.13437373,  0.93988047,  0.56484132, -0.09991857,\n",
              "        0.18936364, -0.07863587, -0.35091108, -0.12524843,  0.76859399,\n",
              "       -0.37353399,  0.45641316, -0.50703643,  0.87702122, -0.76412701,\n",
              "        0.08100946, -0.936119  ,  0.91462574, -0.736148  , -0.00380629,\n",
              "       -0.42216564,  0.32828877,  0.40942838,  0.54495905, -0.28977243,\n",
              "       -0.92578564, -0.66099334, -0.29986787, -0.51060378, -0.73304708,\n",
              "       -0.25756908, -0.75062602, -0.95042013, -0.9833615 ,  0.65592573,\n",
              "       -0.01758865, -0.48297976,  0.79977875,  0.99692203, -0.97962494,\n",
              "        0.94724033,  0.65467017, -0.66784042, -0.05498334,  0.98236391,\n",
              "       -0.10669388,  0.90680114,  0.90196083, -0.48862677, -0.20531294,\n",
              "       -0.89400636,  0.17138755, -0.41496451,  0.29558618, -0.84893066,\n",
              "       -0.39088797, -0.61268662,  0.94109596, -0.34916417,  0.07230866,\n",
              "        0.61905386,  0.6517878 ,  0.53656924,  0.43421994,  0.75577758,\n",
              "        0.80824291,  0.5168417 , -0.96700394,  0.54217968,  0.51119186,\n",
              "       -0.59926951,  0.01345451, -0.19007526, -0.95527071,  0.91500529,\n",
              "       -0.61698861, -0.65547285, -0.15981172, -0.12260489, -0.48727329,\n",
              "        0.83535097, -0.57313054,  0.98069273,  0.13935714,  0.29480087,\n",
              "        0.23744321,  0.94689241,  0.49750272, -0.71801122, -0.47955154])"
            ]
          },
          "metadata": {},
          "execution_count": 34
        }
      ],
      "source": [
        "Z = np.random.randint(0,2,100)\n",
        "np.logical_not(Z, out=Z)\n",
        "Z = np.random.uniform(-1.0,1.0,100)\n",
        "np.negative(Z, out=Z)"
      ]
    },
    {
      "cell_type": "markdown",
      "metadata": {
        "id": "iCvP8OerBq63"
      },
      "source": [
        "#### 78. Consider 2 sets of points P0,P1 describing lines (2d) and a point p, how to compute distance from p to each line i  (P0\\[i\\],P1\\[i\\])? (★★★)"
      ]
    },
    {
      "cell_type": "code",
      "execution_count": 35,
      "metadata": {
        "id": "2Yw50perBq63",
        "colab": {
          "base_uri": "https://localhost:8080/"
        },
        "outputId": "9478660d-d98c-4dbe-fbd9-30226e491e27"
      },
      "outputs": [
        {
          "output_type": "stream",
          "name": "stdout",
          "text": [
            "[ 2.58321858  8.7292268   9.86831026  1.79956489  0.21652051  1.39967881\n",
            " 15.9887603   1.68237609  0.61702543  8.59607523]\n"
          ]
        }
      ],
      "source": [
        "def distance(P0, P1, p):\n",
        "    T = P1 - P0\n",
        "    L = (T**2).sum(axis=1)\n",
        "    U = -((P0[:,0]-p[...,0])*T[:,0] + (P0[:,1]-p[...,1])*T[:,1]) / L\n",
        "    U = U.reshape(len(U),1)\n",
        "    D = P0 + U*T - p\n",
        "    return np.sqrt((D**2).sum(axis=1))\n",
        "\n",
        "P0 = np.random.uniform(-10,10,(10,2))\n",
        "P1 = np.random.uniform(-10,10,(10,2))\n",
        "p  = np.random.uniform(-10,10,( 1,2))\n",
        "print(distance(P0, P1, p))"
      ]
    },
    {
      "cell_type": "markdown",
      "metadata": {
        "id": "44_xupx7Bq63"
      },
      "source": [
        "#### 79. Consider 2 sets of points P0,P1 describing lines (2d) and a set of points P, how to compute distance from each point j (P\\[j\\]) to each line i (P0\\[i\\],P1\\[i\\])? (★★★)"
      ]
    },
    {
      "cell_type": "code",
      "execution_count": 36,
      "metadata": {
        "id": "_fsHKLE3Bq64",
        "colab": {
          "base_uri": "https://localhost:8080/"
        },
        "outputId": "3747d9be-b66e-49af-9593-bf1c9a7460db"
      },
      "outputs": [
        {
          "output_type": "stream",
          "name": "stdout",
          "text": [
            "[[ 3.68178466 11.90343963  6.0927662   0.25447178  2.0176629  12.74656326\n",
            "   3.01019351  2.05192116  4.73944537  7.23897003]\n",
            " [ 1.59535501  2.22967645  5.02974151  1.56632498  2.58383094  3.37892276\n",
            "   9.12507306  8.73688018  1.52178663  2.95249295]\n",
            " [ 1.24094484  1.1346937   8.80132157  1.66456372  4.39586402  0.52949441\n",
            "  13.12215139 12.4181222   0.14928571  1.86259045]\n",
            " [ 5.41037194  1.63449196  7.5044527   8.27960163  1.05536833  4.76514357\n",
            "  14.00982818 10.71456656  6.01946871  4.73784746]\n",
            " [ 1.64031573  4.95509106  2.89154152  4.88412529  0.89317847  1.81080006\n",
            "   8.00677461  6.42778839  5.03886586  0.03128799]\n",
            " [ 1.18328746  6.58430443  0.99083525  4.56130803  1.60789287  3.50470275\n",
            "   5.89944113  4.59060276  5.50864169  0.86727565]\n",
            " [ 9.91769933  2.01014491  3.10325689  6.47568476  7.46167549 12.37619164\n",
            "   4.36439784  7.38271135  4.26580457 11.8933486 ]\n",
            " [ 0.14837564  2.3179771  10.37980463  2.6325825   4.48114871  1.53775923\n",
            "  15.11036453 13.89777077  0.32742906  0.43403905]\n",
            " [14.36580174 12.86509288  2.44608968 17.72928583 12.88631674  6.40966998\n",
            "   6.76753934  0.36314303 17.52326227 12.04783225]\n",
            " [ 8.31950724  7.46134758  2.44218497  4.53975071  3.28669782 14.60254177\n",
            "   0.80480632  1.83312622  0.55870491 11.31335636]]\n"
          ]
        }
      ],
      "source": [
        "P0 = np.random.uniform(-10, 10, (10,2))\n",
        "P1 = np.random.uniform(-10,10,(10,2))\n",
        "p = np.random.uniform(-10, 10, (10,2))\n",
        "print(np.array([distance(P0,P1,p_i) for p_i in p]))"
      ]
    },
    {
      "cell_type": "markdown",
      "metadata": {
        "id": "j37qPpnVBq64"
      },
      "source": [
        "#### 80. Consider an arbitrary array, write a function that extract a subpart with a fixed shape and centered on a given element (pad with a `fill` value when necessary) (★★★) \n",
        "(**hint**: minimum, maximum)"
      ]
    },
    {
      "cell_type": "code",
      "execution_count": 37,
      "metadata": {
        "id": "XyR0cSbIBq64",
        "colab": {
          "base_uri": "https://localhost:8080/"
        },
        "outputId": "5cacf93c-61c4-4326-8218-c5f09a044c61"
      },
      "outputs": [
        {
          "output_type": "stream",
          "name": "stdout",
          "text": [
            "[[3 1 0 2 2 4 4 2 1 9]\n",
            " [7 6 8 2 9 8 1 1 0 2]\n",
            " [0 3 2 0 3 5 6 1 6 3]\n",
            " [3 3 0 8 6 3 4 4 7 2]\n",
            " [8 1 3 5 1 1 5 5 8 9]\n",
            " [6 5 1 6 0 2 4 1 3 4]\n",
            " [4 2 5 3 6 8 1 0 7 9]\n",
            " [0 7 9 6 7 4 9 0 1 2]\n",
            " [1 6 6 3 5 5 6 6 2 3]\n",
            " [9 1 2 3 6 6 5 6 0 4]]\n",
            "[[0 0 0 0 0]\n",
            " [0 3 1 0 2]\n",
            " [0 7 6 8 2]\n",
            " [0 0 3 2 0]\n",
            " [0 3 3 0 8]]\n"
          ]
        },
        {
          "output_type": "stream",
          "name": "stderr",
          "text": [
            "/usr/local/lib/python3.7/dist-packages/ipykernel_launcher.py:23: FutureWarning: Using a non-tuple sequence for multidimensional indexing is deprecated; use `arr[tuple(seq)]` instead of `arr[seq]`. In the future this will be interpreted as an array index, `arr[np.array(seq)]`, which will result either in an error or a different result.\n"
          ]
        }
      ],
      "source": [
        "Z = np.random.randint(0,10,(10,10))\n",
        "shape = (5,5)\n",
        "fill  = 0\n",
        "position = (1,1)\n",
        "\n",
        "R = np.ones(shape, dtype=Z.dtype)*fill\n",
        "P  = np.array(list(position)).astype(int)\n",
        "Rs = np.array(list(R.shape)).astype(int)\n",
        "Zs = np.array(list(Z.shape)).astype(int)\n",
        "\n",
        "R_start = np.zeros((len(shape),)).astype(int)\n",
        "R_stop  = np.array(list(shape)).astype(int)\n",
        "Z_start = (P-Rs//2)\n",
        "Z_stop  = (P+Rs//2)+Rs%2\n",
        "\n",
        "R_start = (R_start - np.minimum(Z_start,0)).tolist()\n",
        "Z_start = (np.maximum(Z_start,0)).tolist()\n",
        "R_stop = np.maximum(R_start, (R_stop - np.maximum(Z_stop-Zs,0))).tolist()\n",
        "Z_stop = (np.minimum(Z_stop,Zs)).tolist()\n",
        "\n",
        "r = [slice(start,stop) for start,stop in zip(R_start,R_stop)]\n",
        "z = [slice(start,stop) for start,stop in zip(Z_start,Z_stop)]\n",
        "R[r] = Z[z]\n",
        "print(Z)\n",
        "print(R)"
      ]
    },
    {
      "cell_type": "markdown",
      "metadata": {
        "id": "KKN4yMuNBq65"
      },
      "source": [
        "#### 81. Consider an array Z = \\[1,2,3,4,5,6,7,8,9,10,11,12,13,14\\], how to generate an array R = \\[\\[1,2,3,4\\], \\[2,3,4,5\\], \\[3,4,5,6\\], ..., \\[11,12,13,14\\]\\]? (★★★) \n",
        "(**hint**: stride\\_tricks.as\\_strided)"
      ]
    },
    {
      "cell_type": "code",
      "execution_count": 38,
      "metadata": {
        "id": "1vbEdEkUBq65",
        "colab": {
          "base_uri": "https://localhost:8080/"
        },
        "outputId": "0f333190-9aba-45ec-fafc-51fdb1c80c37"
      },
      "outputs": [
        {
          "output_type": "stream",
          "name": "stdout",
          "text": [
            "[[ 1  2  3  4]\n",
            " [ 2  3  4  5]\n",
            " [ 3  4  5  6]\n",
            " [ 4  5  6  7]\n",
            " [ 5  6  7  8]\n",
            " [ 6  7  8  9]\n",
            " [ 7  8  9 10]\n",
            " [ 8  9 10 11]\n",
            " [ 9 10 11 12]\n",
            " [10 11 12 13]\n",
            " [11 12 13 14]]\n"
          ]
        }
      ],
      "source": [
        "Z = np.arange(1,15,dtype=np.uint32)\n",
        "R = stride_tricks.as_strided(Z,(11,4),(4,4))\n",
        "print(R)\n"
      ]
    },
    {
      "cell_type": "markdown",
      "metadata": {
        "id": "6h_IsJ8oBq66"
      },
      "source": [
        "#### 82. Compute a matrix rank (★★★) \n",
        "(**hint**: np.linalg.svd) (suggestion: np.linalg.svd)"
      ]
    },
    {
      "cell_type": "code",
      "execution_count": 39,
      "metadata": {
        "id": "iuKQSgk0Bq66",
        "colab": {
          "base_uri": "https://localhost:8080/"
        },
        "outputId": "b52e892c-10f2-42ca-f740-eb1f6e6dd419"
      },
      "outputs": [
        {
          "output_type": "stream",
          "name": "stdout",
          "text": [
            "10\n"
          ]
        }
      ],
      "source": [
        "Z = np.random.uniform(0,1,(10,10))\n",
        "U, S, V = np.linalg.svd(Z) # Singular Value Decomposition\n",
        "rank = np.sum(S > 1e-10)\n",
        "print(rank)"
      ]
    },
    {
      "cell_type": "markdown",
      "metadata": {
        "id": "uWKTUoWdBq66"
      },
      "source": [
        "#### 83. How to find the most frequent value in an array? \n",
        "(**hint**: np.bincount, argmax)"
      ]
    },
    {
      "cell_type": "code",
      "execution_count": 40,
      "metadata": {
        "id": "EbASdYzrBq67",
        "colab": {
          "base_uri": "https://localhost:8080/"
        },
        "outputId": "eb98771e-b2ba-42f4-d70f-e4705d351ade"
      },
      "outputs": [
        {
          "output_type": "stream",
          "name": "stdout",
          "text": [
            "6\n"
          ]
        }
      ],
      "source": [
        "Z = np.random.randint(0,10,50)\n",
        "print(np.bincount(Z).argmax())"
      ]
    },
    {
      "cell_type": "markdown",
      "metadata": {
        "id": "motENWw9Bq67"
      },
      "source": [
        "#### 84. Extract all the contiguous 3x3 blocks from a random 10x10 matrix (★★★) \n",
        "(**hint**: stride\\_tricks.as\\_strided)"
      ]
    },
    {
      "cell_type": "code",
      "execution_count": 41,
      "metadata": {
        "id": "KOSL2gScBq67",
        "colab": {
          "base_uri": "https://localhost:8080/"
        },
        "outputId": "e4269ab8-f9d9-4aa9-f7cb-ffc84e64196d"
      },
      "outputs": [
        {
          "output_type": "stream",
          "name": "stdout",
          "text": [
            "[[[[3 3 3]\n",
            "   [0 4 3]\n",
            "   [3 3 0]]\n",
            "\n",
            "  [[3 3 2]\n",
            "   [4 3 2]\n",
            "   [3 0 1]]\n",
            "\n",
            "  [[3 2 3]\n",
            "   [3 2 1]\n",
            "   [0 1 2]]\n",
            "\n",
            "  [[2 3 4]\n",
            "   [2 1 2]\n",
            "   [1 2 1]]\n",
            "\n",
            "  [[3 4 3]\n",
            "   [1 2 1]\n",
            "   [2 1 3]]\n",
            "\n",
            "  [[4 3 2]\n",
            "   [2 1 1]\n",
            "   [1 3 4]]\n",
            "\n",
            "  [[3 2 3]\n",
            "   [1 1 3]\n",
            "   [3 4 2]]\n",
            "\n",
            "  [[2 3 2]\n",
            "   [1 3 4]\n",
            "   [4 2 4]]]\n",
            "\n",
            "\n",
            " [[[0 4 3]\n",
            "   [3 3 0]\n",
            "   [4 3 0]]\n",
            "\n",
            "  [[4 3 2]\n",
            "   [3 0 1]\n",
            "   [3 0 3]]\n",
            "\n",
            "  [[3 2 1]\n",
            "   [0 1 2]\n",
            "   [0 3 3]]\n",
            "\n",
            "  [[2 1 2]\n",
            "   [1 2 1]\n",
            "   [3 3 3]]\n",
            "\n",
            "  [[1 2 1]\n",
            "   [2 1 3]\n",
            "   [3 3 0]]\n",
            "\n",
            "  [[2 1 1]\n",
            "   [1 3 4]\n",
            "   [3 0 4]]\n",
            "\n",
            "  [[1 1 3]\n",
            "   [3 4 2]\n",
            "   [0 4 3]]\n",
            "\n",
            "  [[1 3 4]\n",
            "   [4 2 4]\n",
            "   [4 3 0]]]\n",
            "\n",
            "\n",
            " [[[3 3 0]\n",
            "   [4 3 0]\n",
            "   [0 2 1]]\n",
            "\n",
            "  [[3 0 1]\n",
            "   [3 0 3]\n",
            "   [2 1 2]]\n",
            "\n",
            "  [[0 1 2]\n",
            "   [0 3 3]\n",
            "   [1 2 3]]\n",
            "\n",
            "  [[1 2 1]\n",
            "   [3 3 3]\n",
            "   [2 3 1]]\n",
            "\n",
            "  [[2 1 3]\n",
            "   [3 3 0]\n",
            "   [3 1 4]]\n",
            "\n",
            "  [[1 3 4]\n",
            "   [3 0 4]\n",
            "   [1 4 0]]\n",
            "\n",
            "  [[3 4 2]\n",
            "   [0 4 3]\n",
            "   [4 0 2]]\n",
            "\n",
            "  [[4 2 4]\n",
            "   [4 3 0]\n",
            "   [0 2 1]]]\n",
            "\n",
            "\n",
            " [[[4 3 0]\n",
            "   [0 2 1]\n",
            "   [4 1 2]]\n",
            "\n",
            "  [[3 0 3]\n",
            "   [2 1 2]\n",
            "   [1 2 0]]\n",
            "\n",
            "  [[0 3 3]\n",
            "   [1 2 3]\n",
            "   [2 0 2]]\n",
            "\n",
            "  [[3 3 3]\n",
            "   [2 3 1]\n",
            "   [0 2 3]]\n",
            "\n",
            "  [[3 3 0]\n",
            "   [3 1 4]\n",
            "   [2 3 0]]\n",
            "\n",
            "  [[3 0 4]\n",
            "   [1 4 0]\n",
            "   [3 0 4]]\n",
            "\n",
            "  [[0 4 3]\n",
            "   [4 0 2]\n",
            "   [0 4 0]]\n",
            "\n",
            "  [[4 3 0]\n",
            "   [0 2 1]\n",
            "   [4 0 2]]]\n",
            "\n",
            "\n",
            " [[[0 2 1]\n",
            "   [4 1 2]\n",
            "   [4 2 0]]\n",
            "\n",
            "  [[2 1 2]\n",
            "   [1 2 0]\n",
            "   [2 0 3]]\n",
            "\n",
            "  [[1 2 3]\n",
            "   [2 0 2]\n",
            "   [0 3 3]]\n",
            "\n",
            "  [[2 3 1]\n",
            "   [0 2 3]\n",
            "   [3 3 2]]\n",
            "\n",
            "  [[3 1 4]\n",
            "   [2 3 0]\n",
            "   [3 2 2]]\n",
            "\n",
            "  [[1 4 0]\n",
            "   [3 0 4]\n",
            "   [2 2 0]]\n",
            "\n",
            "  [[4 0 2]\n",
            "   [0 4 0]\n",
            "   [2 0 4]]\n",
            "\n",
            "  [[0 2 1]\n",
            "   [4 0 2]\n",
            "   [0 4 2]]]\n",
            "\n",
            "\n",
            " [[[4 1 2]\n",
            "   [4 2 0]\n",
            "   [2 1 3]]\n",
            "\n",
            "  [[1 2 0]\n",
            "   [2 0 3]\n",
            "   [1 3 4]]\n",
            "\n",
            "  [[2 0 2]\n",
            "   [0 3 3]\n",
            "   [3 4 3]]\n",
            "\n",
            "  [[0 2 3]\n",
            "   [3 3 2]\n",
            "   [4 3 1]]\n",
            "\n",
            "  [[2 3 0]\n",
            "   [3 2 2]\n",
            "   [3 1 3]]\n",
            "\n",
            "  [[3 0 4]\n",
            "   [2 2 0]\n",
            "   [1 3 2]]\n",
            "\n",
            "  [[0 4 0]\n",
            "   [2 0 4]\n",
            "   [3 2 3]]\n",
            "\n",
            "  [[4 0 2]\n",
            "   [0 4 2]\n",
            "   [2 3 0]]]\n",
            "\n",
            "\n",
            " [[[4 2 0]\n",
            "   [2 1 3]\n",
            "   [3 1 3]]\n",
            "\n",
            "  [[2 0 3]\n",
            "   [1 3 4]\n",
            "   [1 3 4]]\n",
            "\n",
            "  [[0 3 3]\n",
            "   [3 4 3]\n",
            "   [3 4 4]]\n",
            "\n",
            "  [[3 3 2]\n",
            "   [4 3 1]\n",
            "   [4 4 2]]\n",
            "\n",
            "  [[3 2 2]\n",
            "   [3 1 3]\n",
            "   [4 2 0]]\n",
            "\n",
            "  [[2 2 0]\n",
            "   [1 3 2]\n",
            "   [2 0 4]]\n",
            "\n",
            "  [[2 0 4]\n",
            "   [3 2 3]\n",
            "   [0 4 2]]\n",
            "\n",
            "  [[0 4 2]\n",
            "   [2 3 0]\n",
            "   [4 2 3]]]\n",
            "\n",
            "\n",
            " [[[2 1 3]\n",
            "   [3 1 3]\n",
            "   [2 2 4]]\n",
            "\n",
            "  [[1 3 4]\n",
            "   [1 3 4]\n",
            "   [2 4 3]]\n",
            "\n",
            "  [[3 4 3]\n",
            "   [3 4 4]\n",
            "   [4 3 3]]\n",
            "\n",
            "  [[4 3 1]\n",
            "   [4 4 2]\n",
            "   [3 3 1]]\n",
            "\n",
            "  [[3 1 3]\n",
            "   [4 2 0]\n",
            "   [3 1 4]]\n",
            "\n",
            "  [[1 3 2]\n",
            "   [2 0 4]\n",
            "   [1 4 0]]\n",
            "\n",
            "  [[3 2 3]\n",
            "   [0 4 2]\n",
            "   [4 0 1]]\n",
            "\n",
            "  [[2 3 0]\n",
            "   [4 2 3]\n",
            "   [0 1 1]]]]\n"
          ]
        }
      ],
      "source": [
        "Z = np.random.randint(0,5,(10,10))\n",
        "n = 3\n",
        "i = 1 + (Z.shape[0]-3)\n",
        "j = 1 + (Z.shape[1]-3)\n",
        "C = stride_tricks.as_strided(Z, shape=(i, j, n, n), strides=Z.strides + Z.strides)\n",
        "print(C)"
      ]
    },
    {
      "cell_type": "markdown",
      "metadata": {
        "id": "xmy2XQi1Bq68"
      },
      "source": [
        "#### 85. Create a 2D array subclass such that Z\\[i,j\\] == Z\\[j,i\\] (★★★) \n",
        "(**hint**: class method)"
      ]
    },
    {
      "cell_type": "code",
      "execution_count": 42,
      "metadata": {
        "id": "EnlkUbDeBq68",
        "colab": {
          "base_uri": "https://localhost:8080/"
        },
        "outputId": "0b0cfcc1-d6ca-4024-8c0c-8cc89b6d7145"
      },
      "outputs": [
        {
          "output_type": "stream",
          "name": "stdout",
          "text": [
            "[[ 8  9 17  6 11]\n",
            " [ 9  0 11 17  7]\n",
            " [17 11  0 42  9]\n",
            " [ 6 17 42  8  3]\n",
            " [11  7  9  3  1]]\n"
          ]
        }
      ],
      "source": [
        "class Symetric(np.ndarray):\n",
        "    def __setitem__(self, index, value):\n",
        "        i,j = index\n",
        "        super(Symetric, self).__setitem__((i,j), value)\n",
        "        super(Symetric, self).__setitem__((j,i), value)\n",
        "\n",
        "def symetric(Z):\n",
        "    return np.asarray(Z + Z.T - np.diag(Z.diagonal())).view(Symetric)\n",
        "\n",
        "S = symetric(np.random.randint(0,10,(5,5)))\n",
        "S[2,3] = 42\n",
        "print(S)"
      ]
    },
    {
      "cell_type": "markdown",
      "metadata": {
        "id": "mWBzd2iXBq68"
      },
      "source": [
        "#### 86. Consider a set of p matrices wich shape (n,n) and a set of p vectors with shape (n,1). How to compute the sum of of the p matrix products at once? (result has shape (n,1)) (★★★) \n",
        "(**hint**: np.tensordot)"
      ]
    },
    {
      "cell_type": "code",
      "execution_count": 43,
      "metadata": {
        "id": "3v_EP7vqBq69",
        "colab": {
          "base_uri": "https://localhost:8080/"
        },
        "outputId": "447db146-7487-4ecc-c368-9c9ccb1198cd"
      },
      "outputs": [
        {
          "output_type": "stream",
          "name": "stdout",
          "text": [
            "[[200.]\n",
            " [200.]\n",
            " [200.]\n",
            " [200.]\n",
            " [200.]\n",
            " [200.]\n",
            " [200.]\n",
            " [200.]\n",
            " [200.]\n",
            " [200.]\n",
            " [200.]\n",
            " [200.]\n",
            " [200.]\n",
            " [200.]\n",
            " [200.]\n",
            " [200.]\n",
            " [200.]\n",
            " [200.]\n",
            " [200.]\n",
            " [200.]]\n"
          ]
        }
      ],
      "source": [
        "p, n = 10, 20\n",
        "M = np.ones((p,n,n))\n",
        "V = np.ones((p,n,1))\n",
        "S = np.tensordot(M, V, axes=[[0, 2], [0, 1]])\n",
        "print(S)"
      ]
    },
    {
      "cell_type": "markdown",
      "metadata": {
        "id": "H_zug7ofBq69"
      },
      "source": [
        "#### 87. Consider a 16x16 array, how to get the block-sum (block size is 4x4)? (★★★) \n",
        "(**hint**: np.add.reduceat)"
      ]
    },
    {
      "cell_type": "code",
      "execution_count": 44,
      "metadata": {
        "id": "MVhRXZn9Bq6-",
        "colab": {
          "base_uri": "https://localhost:8080/"
        },
        "outputId": "b0b34f93-cb41-438c-ee73-4f36102a8415"
      },
      "outputs": [
        {
          "output_type": "stream",
          "name": "stdout",
          "text": [
            "[[16. 16. 16. 16.]\n",
            " [16. 16. 16. 16.]\n",
            " [16. 16. 16. 16.]\n",
            " [16. 16. 16. 16.]]\n"
          ]
        }
      ],
      "source": [
        "Z = np.ones((16,16))\n",
        "k = 4\n",
        "S = np.add.reduceat(np.add.reduceat(Z, np.arange(0, Z.shape[0], k), axis=0),\n",
        "                                       np.arange(0, Z.shape[1], k), axis=1)\n",
        "print(S)\n"
      ]
    },
    {
      "cell_type": "markdown",
      "metadata": {
        "id": "LcrcQTgIBq6-"
      },
      "source": [
        "#### 88. How to implement the Game of Life using numpy arrays? (★★★)"
      ]
    },
    {
      "cell_type": "code",
      "execution_count": 47,
      "metadata": {
        "id": "ABxddcDKBq6-",
        "colab": {
          "base_uri": "https://localhost:8080/"
        },
        "outputId": "ead0de54-413e-4a74-d27d-ab348f53ed30"
      },
      "outputs": [
        {
          "output_type": "stream",
          "name": "stdout",
          "text": [
            "[[0 0 0 ... 0 0 0]\n",
            " [0 0 0 ... 0 0 0]\n",
            " [0 0 0 ... 0 0 0]\n",
            " ...\n",
            " [0 0 0 ... 0 0 0]\n",
            " [0 0 0 ... 0 0 0]\n",
            " [0 0 0 ... 0 0 0]]\n"
          ]
        }
      ],
      "source": [
        "def iterate(Z):\n",
        "    # Count neighbours\n",
        "    N = (Z[0:-2,0:-2] + Z[0:-2,1:-1] + Z[0:-2,2:] +\n",
        "         Z[1:-1,0:-2]                + Z[1:-1,2:] +\n",
        "         Z[2:  ,0:-2] + Z[2:  ,1:-1] + Z[2:  ,2:])\n",
        "\n",
        "    # Apply rules\n",
        "    birth = (N==3) & (Z[1:-1,1:-1]==0)\n",
        "    survive = ((N==2) | (N==3)) & (Z[1:-1,1:-1]==1)\n",
        "    Z[...] = 0\n",
        "    Z[1:-1,1:-1][birth | survive] = 1\n",
        "    return Z\n",
        "\n",
        "Z = np.random.randint(0,2,(50,50))\n",
        "for i in range(100): Z = iterate(Z)\n",
        "print(Z)"
      ]
    },
    {
      "cell_type": "markdown",
      "metadata": {
        "id": "h8x4yohJBq6_"
      },
      "source": [
        "#### 89. How to get the n largest values of an array (★★★) \n",
        "(**hint**: np.argsort | np.argpartition)"
      ]
    },
    {
      "cell_type": "code",
      "execution_count": 48,
      "metadata": {
        "id": "7ZDGe6WZBq6_",
        "colab": {
          "base_uri": "https://localhost:8080/"
        },
        "outputId": "50010295-e172-4c40-b6de-1e89f49b8ee9"
      },
      "outputs": [
        {
          "output_type": "stream",
          "name": "stdout",
          "text": [
            "[9995 9996 9997 9998 9999]\n",
            "[9999 9998 9995 9996 9997]\n"
          ]
        }
      ],
      "source": [
        "Z = np.arange(10000)\n",
        "np.random.shuffle(Z)\n",
        "n = 5\n",
        "print (Z[np.argsort(Z)[-n:]]) # Slow\n",
        "print (Z[np.argpartition(-Z,n)[:n]]) # Fast"
      ]
    },
    {
      "cell_type": "markdown",
      "metadata": {
        "id": "VRGKin5XBq6_"
      },
      "source": [
        "#### 90. Given an arbitrary number of vectors, build the cartesian product (every combinations of every item) (★★★) \n",
        "(**hint**: np.indices)"
      ]
    },
    {
      "cell_type": "code",
      "execution_count": 49,
      "metadata": {
        "scrolled": true,
        "id": "RwiYSzvmBq7A",
        "colab": {
          "base_uri": "https://localhost:8080/"
        },
        "outputId": "66f4d0e2-dbb5-4e43-e369-edf38ce6b1bc"
      },
      "outputs": [
        {
          "output_type": "stream",
          "name": "stdout",
          "text": [
            "[[1 4 6]\n",
            " [1 4 7]\n",
            " [1 5 6]\n",
            " [1 5 7]\n",
            " [2 4 6]\n",
            " [2 4 7]\n",
            " [2 5 6]\n",
            " [2 5 7]\n",
            " [3 4 6]\n",
            " [3 4 7]\n",
            " [3 5 6]\n",
            " [3 5 7]]\n"
          ]
        }
      ],
      "source": [
        "def cartesian(arrays):\n",
        "    arrays = [np.asarray(a) for a in arrays]\n",
        "    shape = (len(x) for x in arrays)\n",
        "\n",
        "    ix = np.indices(shape, dtype=int)\n",
        "    ix = ix.reshape(len(arrays), -1).T\n",
        "\n",
        "    for n, arr in enumerate(arrays):\n",
        "        ix[:, n] = arrays[n][ix[:, n]]\n",
        "\n",
        "    return ix\n",
        "\n",
        "print (cartesian(([1, 2, 3], [4, 5], [6, 7])))"
      ]
    },
    {
      "cell_type": "markdown",
      "metadata": {
        "id": "IvwAmNZOBq7A"
      },
      "source": [
        "#### 91. How to create a record array from a regular array? (★★★) \n",
        "(**hint**: np.core.records.fromarrays)"
      ]
    },
    {
      "cell_type": "code",
      "execution_count": 50,
      "metadata": {
        "id": "v8aKfCWRBq7A",
        "colab": {
          "base_uri": "https://localhost:8080/"
        },
        "outputId": "f53220c4-5c18-4bca-c7e7-5bde69676fad"
      },
      "outputs": [
        {
          "output_type": "stream",
          "name": "stdout",
          "text": [
            "[(b'Hello', 2.5, 3) (b'World', 3.6, 2)]\n"
          ]
        }
      ],
      "source": [
        "Z = np.array([(\"Hello\", 2.5, 3),\n",
        "              (\"World\", 3.6, 2)])\n",
        "R = np.core.records.fromarrays(Z.T,\n",
        "                               names='col1, col2, col3',\n",
        "                               formats = 'S8, f8, i8')\n",
        "print(R)"
      ]
    },
    {
      "cell_type": "markdown",
      "metadata": {
        "id": "yvFoTzEfBq7A"
      },
      "source": [
        "#### 92. Consider a large vector Z, compute Z to the power of 3 using 3 different methods (★★★) \n",
        "(**hint**: np.power, \\*, np.einsum)"
      ]
    },
    {
      "cell_type": "code",
      "execution_count": 51,
      "metadata": {
        "id": "3SjRU7w_Bq7A",
        "colab": {
          "base_uri": "https://localhost:8080/"
        },
        "outputId": "f95c63ea-f5eb-4da4-bdad-9246a5af3f51"
      },
      "outputs": [
        {
          "output_type": "stream",
          "name": "stdout",
          "text": [
            "1 loop, best of 5: 3.72 s per loop\n",
            "10 loops, best of 5: 141 ms per loop\n",
            "10 loops, best of 5: 125 ms per loop\n"
          ]
        }
      ],
      "source": [
        "x = np.random.rand(int(5e7))\n",
        "\n",
        "%timeit np.power(x,3)\n",
        "%timeit x*x*x\n",
        "%timeit np.einsum('i,i,i->i',x,x,x)"
      ]
    },
    {
      "cell_type": "markdown",
      "metadata": {
        "id": "ZxelkuudBq7B"
      },
      "source": [
        "#### 93. Consider two arrays A and B of shape (8,3) and (2,2). How to find rows of A that contain elements of each row of B regardless of the order of the elements in B? (★★★) \n",
        "(**hint**: np.where)"
      ]
    },
    {
      "cell_type": "code",
      "execution_count": 52,
      "metadata": {
        "id": "Ar0GDHP0Bq7B",
        "colab": {
          "base_uri": "https://localhost:8080/"
        },
        "outputId": "0c6124b4-f33a-4903-f1a9-5a4ee10b484b"
      },
      "outputs": [
        {
          "output_type": "stream",
          "name": "stdout",
          "text": [
            "[0 2 4]\n"
          ]
        }
      ],
      "source": [
        "A = np.random.randint(0,5,(8,3))\n",
        "B = np.random.randint(0,5,(2,2))\n",
        "\n",
        "C = (A[..., np.newaxis, np.newaxis] == B)\n",
        "rows = np.where(C.any((3,1)).all(1))[0]\n",
        "print(rows)"
      ]
    },
    {
      "cell_type": "markdown",
      "metadata": {
        "id": "p3hIXe07Bq7C"
      },
      "source": [
        "#### 94. Considering a 10x3 matrix, extract rows with unequal values (e.g. \\[2,2,3\\]) (★★★)"
      ]
    },
    {
      "cell_type": "code",
      "execution_count": null,
      "metadata": {
        "id": "vn8_gmKEBq7D"
      },
      "outputs": [],
      "source": [
        "Z = np.random.randint(0,5,(10,3))\n",
        "print(Z)\n",
        "# solution for arrays of all dtypes (including string arrays and record arrays)\n",
        "E = np.all(Z[:,1:] == Z[:,:-1], axis=1)\n",
        "U = Z[~E]\n",
        "print(U)\n",
        "# soluiton for numerical arrays only, will work for any number of columns in Z\n",
        "U = Z[Z.max(axis=1) != Z.min(axis=1),:]\n",
        "print(U)"
      ]
    },
    {
      "cell_type": "markdown",
      "metadata": {
        "id": "ZcNW6paoBq7D"
      },
      "source": [
        "#### 95. Convert a vector of ints into a matrix binary representation (★★★) \n",
        "(**hint**: np.unpackbits)"
      ]
    },
    {
      "cell_type": "code",
      "execution_count": 53,
      "metadata": {
        "id": "yqlOUM7cBq7D",
        "colab": {
          "base_uri": "https://localhost:8080/"
        },
        "outputId": "f5f63674-7405-4c8e-fade-da4dfa82ca02"
      },
      "outputs": [
        {
          "output_type": "stream",
          "name": "stdout",
          "text": [
            "[[0 0 0 0 0 0 0 0]\n",
            " [0 0 0 0 0 0 0 1]\n",
            " [0 0 0 0 0 0 1 0]\n",
            " [0 0 0 0 0 0 1 1]\n",
            " [0 0 0 0 1 1 1 1]\n",
            " [0 0 0 1 0 0 0 0]\n",
            " [0 0 1 0 0 0 0 0]\n",
            " [0 1 0 0 0 0 0 0]\n",
            " [1 0 0 0 0 0 0 0]]\n"
          ]
        }
      ],
      "source": [
        "I = np.array([0, 1, 2, 3, 15, 16, 32, 64, 128], dtype=np.uint8)\n",
        "print(np.unpackbits(I[:, np.newaxis], axis=1))"
      ]
    },
    {
      "cell_type": "markdown",
      "metadata": {
        "id": "wBO9MMbnBq7D"
      },
      "source": [
        "#### 96. Given a two dimensional array, how to extract unique rows? (★★★) \n",
        "(**hint**: np.ascontiguousarray)"
      ]
    },
    {
      "cell_type": "code",
      "execution_count": null,
      "metadata": {
        "id": "rT6lo92aBq7D",
        "colab": {
          "base_uri": "https://localhost:8080/"
        },
        "outputId": "17d33b8a-0d2e-4f8f-b9aa-db3018bd5d8e"
      },
      "outputs": [
        {
          "output_type": "stream",
          "name": "stdout",
          "text": [
            "[[0 0 1]\n",
            " [0 1 0]\n",
            " [1 0 0]\n",
            " [1 0 1]\n",
            " [1 1 0]]\n",
            "[[0 0 1]\n",
            " [0 1 0]\n",
            " [1 0 0]\n",
            " [1 0 1]\n",
            " [1 1 0]]\n"
          ]
        }
      ],
      "source": [
        "Z = np.random.randint(0,2,(6,3))\n",
        "T = np.ascontiguousarray(Z).view(np.dtype((np.void, Z.dtype.itemsize * Z.shape[1])))\n",
        "_, idx = np.unique(T, return_index=True)\n",
        "uZ = Z[idx]\n",
        "print(uZ)\n",
        "\n",
        "# Author: Andreas Kouzelis\n",
        "# NumPy >= 1.13\n",
        "uZ = np.unique(Z, axis=0)\n",
        "print(uZ)"
      ]
    },
    {
      "cell_type": "markdown",
      "metadata": {
        "id": "flQe9k3uBq7E"
      },
      "source": [
        "#### 97. Considering 2 vectors A & B, write the einsum equivalent of inner, outer, sum, and mul function (★★★) \n",
        "(**hint**: np.einsum)"
      ]
    },
    {
      "cell_type": "code",
      "execution_count": null,
      "metadata": {
        "id": "w5c-6jhtBq7E",
        "colab": {
          "base_uri": "https://localhost:8080/"
        },
        "outputId": "5957be68-a862-4580-b850-b25966f0b0cc"
      },
      "outputs": [
        {
          "output_type": "execute_result",
          "data": {
            "text/plain": [
              "array([[2.70253753e-01, 4.88552622e-01, 1.20007823e-02, 6.67721284e-01,\n",
              "        4.12240563e-01, 1.25787715e-01, 8.12597604e-02, 6.34170369e-01,\n",
              "        5.16507658e-01, 9.65455706e-02],\n",
              "       [1.75939973e-01, 3.18056398e-01, 7.81272154e-03, 4.34698366e-01,\n",
              "        2.68375898e-01, 8.18900273e-02, 5.29015413e-02, 4.12856127e-01,\n",
              "        3.36255621e-01, 6.28528741e-02],\n",
              "       [3.15229828e-01, 5.69858353e-01, 1.39979722e-02, 7.78844559e-01,\n",
              "        4.80846316e-01, 1.46721513e-01, 9.47831434e-02, 7.39710045e-01,\n",
              "        6.02465712e-01, 1.12612843e-01],\n",
              "       [3.64930564e-01, 6.59705116e-01, 1.62049636e-02, 9.01641148e-01,\n",
              "        5.56658989e-01, 1.69854373e-01, 1.09727135e-01, 8.56336488e-01,\n",
              "        6.97453516e-01, 1.30367956e-01],\n",
              "       [4.28233983e-02, 7.74142199e-02, 1.90159905e-03, 1.05804616e-01,\n",
              "        6.53220967e-02, 1.99318505e-02, 1.28761175e-02, 1.00488263e-01,\n",
              "        8.18438703e-02, 1.52982498e-02],\n",
              "       [1.49362156e-02, 2.70010212e-02, 6.63251741e-04, 3.69032029e-02,\n",
              "        2.27834540e-02, 6.95195687e-03, 4.49101368e-03, 3.50489318e-02,\n",
              "        2.85460226e-02, 5.33582030e-03],\n",
              "       [3.12272048e-01, 5.64511411e-01, 1.38666302e-02, 7.71536713e-01,\n",
              "        4.76334568e-01, 1.45344835e-01, 9.38937996e-02, 7.32769396e-01,\n",
              "        5.96812817e-01, 1.11556205e-01],\n",
              "       [1.64697140e-02, 2.97732107e-02, 7.31347668e-04, 4.06920475e-02,\n",
              "        2.51226267e-02, 7.66571293e-03, 4.95210518e-03, 3.86473989e-02,\n",
              "        3.14768372e-02, 5.88364793e-03],\n",
              "       [7.74005645e-02, 1.39921271e-01, 3.43701914e-03, 1.91235103e-01,\n",
              "        1.18065529e-01, 3.60255501e-02, 2.32727621e-02, 1.81626134e-01,\n",
              "        1.47927582e-01, 2.76506120e-02],\n",
              "       [1.71915875e-01, 3.10781814e-01, 7.63402901e-03, 4.24755947e-01,\n",
              "        2.62237606e-01, 8.00170390e-02, 5.16915775e-02, 4.03413283e-01,\n",
              "        3.28564784e-01, 6.14153035e-02]])"
            ]
          },
          "metadata": {},
          "execution_count": 69
        }
      ],
      "source": [
        "A = np.random.uniform(0,1,10)\n",
        "B = np.random.uniform(0,1,10)\n",
        "\n",
        "np.einsum('i->', A)       # np.sum(A)\n",
        "np.einsum('i,i->i', A, B) # A * B\n",
        "np.einsum('i,i', A, B)    # np.inner(A, B)\n",
        "np.einsum('i,j->ij', A, B)    # np.outer(A, B)"
      ]
    },
    {
      "cell_type": "markdown",
      "metadata": {
        "id": "j76NH2PXBq7E"
      },
      "source": [
        "#### 98. Considering a path described by two vectors (X,Y), how to sample it using equidistant samples (★★★)? \n",
        "(**hint**: np.cumsum, np.interp)"
      ]
    },
    {
      "cell_type": "code",
      "execution_count": null,
      "metadata": {
        "collapsed": true,
        "id": "_A4ChZ4EBq7E",
        "colab": {
          "base_uri": "https://localhost:8080/"
        },
        "outputId": "484b4884-bae7-4e11-d907-8c140bf10f0d"
      },
      "outputs": [
        {
          "output_type": "stream",
          "name": "stdout",
          "text": [
            "[  0.           0.09950042   0.19601332   0.28660095   0.3684244\n",
            "   0.43879128   0.49520137   0.53538953   0.55736537   0.55944897\n",
            "   0.54030231   0.49895573   0.43482931   0.34774848   0.237954\n",
            "   0.1061058   -0.04671924  -0.21903564  -0.40896377  -0.61425018\n",
            "  -0.83229367  -1.06017682  -1.29470246  -1.53243485  -1.76974492\n",
            "  -2.00285904  -2.22791076  -2.44099478  -2.63822255  -2.81577868\n",
            "  -2.96997749  -3.09731897  -3.19454328  -3.25868324  -3.28711385\n",
            "  -3.27759841  -3.2283303   -3.13797012  -3.00567731  -2.83113599\n",
            "  -2.61457448  -2.35677818  -2.05909545  -1.72343644  -1.35226463\n",
            "  -0.9485811   -0.51590162  -0.05822672   0.41999512   0.91391061\n",
            "   1.41831093   1.92768649   2.43628669   2.93818398   3.42734153\n",
            "   3.89768376   4.34316892   4.75786287   5.1360132    5.47212274\n",
            "   5.76102172   5.99793747   6.178561     6.29910941   6.35638348\n",
            "   6.34781957   6.27153511   6.12636709   5.91190293   5.62850319\n",
            "   5.27731578   4.86028133   4.38012946   3.84036588   3.24525022\n",
            "   2.59976488   1.9095748    1.18097874   0.42085228  -0.36341679\n",
            "  -1.16400027  -1.97270765  -2.78106986  -3.58042781  -4.36202469\n",
            "  -5.11710117  -5.83699241  -6.51322582  -7.13761852  -7.70237336\n",
            "  -8.20017236  -8.62426658  -8.96856132  -9.22769553  -9.3971146\n",
            "  -9.47313548  -9.45300342  -9.33493933  -9.11817747  -8.80299241\n",
            "  -8.39071529  -7.88373862  -7.28550965  -6.6005121   -5.83423628\n",
            "  -4.99313774  -4.08458482  -3.11679531  -2.09876299  -1.04017448\n",
            "   0.04868268   1.1570199    2.27365447   3.38712238   4.48579588\n",
            "   5.55800473   6.59215971   7.57687716   8.50110325   9.35423652\n",
            "  10.1262475   10.80779395  11.39033046  11.8662112   12.22878455\n",
            "  12.47247849  12.59287578  12.58677787  12.45225684  12.18869449\n",
            "  11.79680816  11.27866268  10.63766824   9.878564     9.00738732\n",
            "   8.03142895   6.9591743    5.80023126   4.56524532   3.26580248\n",
            "   1.91432105   0.52393323  -0.89164247  -2.31823644  -3.74136993\n",
            "  -5.14640187  -6.51867941  -7.84369048  -9.10721675 -10.29548549\n",
            " -11.39531869 -12.39427773 -13.28080214 -14.04434094 -14.67547492\n",
            " -15.16602867 -15.50917095 -15.69950221 -15.73312822 -15.60771894\n",
            " -15.32255169 -14.87853808 -14.27823434 -13.52583451 -12.62714655\n",
            " -11.58955145 -10.42194539  -9.13466558  -7.73940027  -6.24908366\n",
            "  -4.67777675  -3.04053512  -1.35326495   0.36743138   2.10441864\n",
            "   3.84019936   5.55709009   7.23740149   8.86362041  10.41859212\n",
            "  11.88570075  13.24904611  14.49361496  15.6054449   16.57177917\n",
            "  17.38121053  18.02381279  18.49125831  18.7769203   18.87595858\n",
            "  18.78538775  18.50412697  18.03303066  17.3748994   16.53447108\n",
            "  15.51839191  14.33516747  12.99509423  11.51017187   9.89399732\n",
            "   8.16164124   6.32950824   4.41518203   2.43725688   0.4151572\n",
            "  -1.63105313  -3.6808699   -5.713554    -7.70834118  -9.64465412\n",
            " -11.50231446 -13.26175272 -14.9042139  -16.41195663 -17.76844373\n",
            " -18.95852214 -19.96859034 -20.78675129 -21.40294938 -21.80908968\n",
            " -21.99913818 -21.96920183 -21.71758737 -21.24483813 -20.55374833\n",
            " -19.6493544  -18.53890336 -17.23179826 -15.73952118 -14.07553421\n",
            " -12.25515947 -10.29543901  -8.21497601  -6.03375864  -3.77296837\n",
            "  -1.45477441   0.89788356   3.2615224    5.6123499    7.92650424\n",
            "  10.18029618  12.35045135  14.41435043  16.35026444  18.13758293\n",
            "  19.7570326   21.19088398  22.42314406  23.43973275  24.2286412\n",
            "  24.7800703   25.08654775  25.14302233  24.94693422  24.49826054\n",
            "  23.79953536  22.85584389  21.67479057  20.26644137  18.64324051\n",
            "  16.81990238  14.81327959  12.64220817  10.32733155   7.89090473\n",
            "   5.35658069   2.74918094   0.09445254  -2.58118617  -5.25090838\n",
            "  -7.88774784 -10.46487118 -12.95585091 -15.33493623 -17.57731893\n",
            " -19.65939164 -21.55899571 -23.25565617 -24.7308012  -25.96796395\n",
            " -26.95296426 -27.67406854 -28.12212595 -28.2906792  -28.17604893\n",
            " -27.77739036 -27.09672162 -26.13892326 -24.91170863 -23.42556536\n",
            " -21.69366836 -19.73176483 -17.55803252 -15.19291234 -12.6589169\n",
            "  -9.98041672  -7.18340625  -4.29525175  -1.34442375   1.63978364\n",
            "   4.6275435    7.58879418  10.49354182  13.31216405  16.01571198\n",
            "  18.57620727  20.96693136  23.16270375  25.14014653  26.87793233\n",
            "  28.35701309  29.56082725  30.47548299  31.08991568  31.39601771]\n",
            "[ 0.00000000e+00  9.98334166e-03  3.97338662e-02  8.86560620e-02\n",
            "  1.55767337e-01  2.39712769e-01  3.38785484e-01  4.50952381e-01\n",
            "  5.73884873e-01  7.04994219e-01  8.41470985e-01  9.80328096e-01\n",
            "  1.11844690e+00  1.25262564e+00  1.37962962e+00  1.49624248e+00\n",
            "  1.59931776e+00  1.68583018e+00  1.75292574e+00  1.79797017e+00\n",
            "  1.81859485e+00  1.81273967e+00  1.77869209e+00  1.71512199e+00\n",
            "  1.62111163e+00  1.49618036e+00  1.34030357e+00  1.15392568e+00\n",
            "  9.37966820e-01  6.93823055e-01  4.23360024e-01  1.28900054e-01\n",
            " -1.86797259e-01 -5.20560791e-01 -8.68839747e-01 -1.22774130e+00\n",
            " -1.59307360e+00 -1.96039372e+00 -2.32505999e+00 -2.68228802e+00\n",
            " -3.02720998e+00 -3.35493616e+00 -3.66061824e+00 -3.93951353e+00\n",
            " -4.18704913e+00 -4.39888553e+00 -4.57097862e+00 -4.69963931e+00\n",
            " -4.78159012e+00 -4.81401780e+00 -4.79462137e+00 -4.72165488e+00\n",
            " -4.59396421e+00 -4.41101744e+00 -4.17292823e+00 -3.88047179e+00\n",
            " -3.53509317e+00 -3.13890759e+00 -2.69469264e+00 -2.20587232e+00\n",
            " -1.67649299e+00 -1.11119128e+00 -5.15154297e-01  1.05927573e-01\n",
            "  7.45914911e-01  1.39827992e+00  2.05617300e+00  2.71249447e+00\n",
            "  3.35997079e+00  3.99123437e+00  4.59890619e+00  5.17568018e+00\n",
            "  5.71440862e+00  6.20818733e+00  6.65043991e+00  7.03499983e+00\n",
            "  7.35618951e+00  7.60889540e+00  7.78863809e+00  7.89163660e+00\n",
            "  7.91486597e+00  7.85610747e+00  7.71399056e+00  7.48802622e+00\n",
            "  7.17863083e+00  6.78714046e+00  6.31581504e+00  5.76783230e+00\n",
            "  5.14727130e+00  4.45908562e+00  3.70906637e+00  2.90379510e+00\n",
            "  2.05058721e+00  1.15742614e+00  2.32888999e-01 -7.13935644e-01\n",
            " -1.67353710e+00 -2.63607808e+00 -3.59149547e+00 -4.52960535e+00\n",
            " -5.44021111e+00 -6.31321355e+00 -7.13872181e+00 -7.90716384e+00\n",
            " -8.60939528e+00 -9.23680548e+00 -9.78141947e+00 -1.02359947e+01\n",
            " -1.05941113e+01 -1.08502552e+01 -1.09998923e+01 -1.10395337e+01\n",
            " -1.09667906e+01 -1.07804175e+01 -1.04803452e+01 -1.00677000e+01\n",
            " -9.54481170e+00 -8.91520793e+00 -8.18359600e+00 -7.35583164e+00\n",
            " -6.43887502e+00 -5.44073432e+00 -4.37039724e+00 -3.23775103e+00\n",
            " -2.05349178e+00 -8.29023717e-01  4.23650395e-01  1.69204693e+00\n",
            "  2.96332576e+00  4.22442026e+00  5.46217148e+00  6.66346518e+00\n",
            "  7.81537039e+00  8.90527784e+00  9.92103693e+00  1.08510898e+01\n",
            "  1.16846007e+01  1.24115800e+01  1.30230002e+01  1.35109043e+01\n",
            "  1.38685030e+01  1.40902624e+01  1.41719785e+01  1.41108391e+01\n",
            "  1.39054720e+01  1.35559783e+01  1.30639511e+01  1.24324784e+01\n",
            "  1.16661306e+01  1.07709321e+01  9.75431760e+00  8.62507273e+00\n",
            "  7.39326007e+00  6.07013077e+00  4.66802269e+00  3.20024597e+00\n",
            "  1.68095698e+00  1.25021985e-01 -1.45212823e+00 -3.03465144e+00\n",
            " -4.60645307e+00 -6.15134982e+00 -7.65323618e+00 -9.09625202e+00\n",
            " -1.04649496e+01 -1.17444581e+01 -1.29206445e+01 -1.39802677e+01\n",
            " -1.49111262e+01 -1.57021958e+01 -1.63437574e+01 -1.68275116e+01\n",
            " -1.71466811e+01 -1.72960977e+01 -1.72722732e+01 -1.70734551e+01\n",
            " -1.66996632e+01 -1.61527094e+01 -1.54361988e+01 -1.45555123e+01\n",
            " -1.35177704e+01 -1.23317792e+01 -1.10079574e+01 -9.55824719e+00\n",
            " -7.99600745e+00 -6.33589144e+00 -4.59371011e+00 -2.78628178e+00\n",
            " -9.31270049e-01  9.52988800e-01  2.84766698e+00  4.73363337e+00\n",
            "  6.59164663e+00  8.40255146e+00  1.01474758e+01  1.18080275e+01\n",
            "  1.33664870e+01  1.48059963e+01  1.61107400e+01  1.72661176e+01\n",
            "  1.82589050e+01  1.90774035e+01  1.97115745e+01  2.01531580e+01\n",
            "  2.03957752e+01  2.04350108e+01  2.02684779e+01  1.98958614e+01\n",
            "  1.93189409e+01  1.85415923e+01  1.75697684e+01  1.64114568e+01\n",
            "  1.50766179e+01  1.35771013e+01  1.19265421e+01  1.01402386e+01\n",
            "  8.23501062e+00  6.22904253e+00  4.14170953e+00  1.99339091e+00\n",
            " -1.94728804e-01 -2.40086876e+00 -4.60286854e+00 -6.77841078e+00\n",
            " -8.90524730e+00 -1.09614265e+01 -1.29255198e+01 -1.47768443e+01\n",
            " -1.64956804e+01 -1.80634807e+01 -1.94630693e+01 -2.06788282e+01\n",
            " -2.16968700e+01 -2.25051940e+01 -2.30938241e+01 -2.34549277e+01\n",
            " -2.35829134e+01 -2.34745068e+01 -2.31288030e+01 -2.25472954e+01\n",
            " -2.17338807e+01 -2.06948388e+01 -1.94387886e+01 -1.79766196e+01\n",
            " -1.63213996e+01 -1.44882595e+01 -1.24942561e+01 -1.03582146e+01\n",
            " -8.10055113e+00 -5.74307808e+00 -3.30879375e+00 -8.21658021e-01\n",
            "  1.69364343e+00  4.21194409e+00  6.70784844e+00  9.15598803e+00\n",
            "  1.15312792e+01  1.38091801e+01  1.59659436e+01  1.79788649e+01\n",
            "  1.98265197e+01  2.14889913e+01  2.29480843e+01  2.41875221e+01\n",
            "  2.51931265e+01  2.59529775e+01  2.64575510e+01  2.66998329e+01\n",
            "  2.66754096e+01  2.63825314e+01  2.58221501e+01  2.49979293e+01\n",
            "  2.39162273e+01  2.25860517e+01  2.10189881e+01  1.92291009e+01\n",
            "  1.72328089e+01  1.50487360e+01  1.26975380e+01  1.02017081e+01\n",
            "  7.58536207e+00  4.87400556e+00  2.09428557e+00 -7.26271386e-01\n",
            " -3.55953178e+00 -6.37703575e+00 -9.15028291e+00 -1.18510207e+01\n",
            " -1.44515319e+01 -1.69249191e+01 -1.92453826e+01 -2.13884889e+01\n",
            " -2.33314272e+01 -2.50532516e+01 -2.65351055e+01 -2.77604265e+01\n",
            " -2.87151297e+01 -2.93877664e+01 -2.97696578e+01 -2.98550014e+01\n",
            " -2.96409487e+01 -2.91276536e+01 -2.83182906e+01 -2.72190427e+01\n",
            " -2.58390590e+01 -2.41903808e+01 -2.22878395e+01 -2.01489244e+01\n",
            " -1.77936234e+01 -1.52442367e+01 -1.25251670e+01 -9.66268557e+00\n",
            " -6.68467926e+00 -3.62037882e+00 -5.00072086e-01]\n",
            "[ 0.00000000e+00 -3.73131229e-01 -2.59817608e+00 -3.26212050e+00\n",
            " -2.18442687e+00 -2.98929946e-02  2.42923642e+00  4.54913599e+00\n",
            "  5.92318348e+00  6.35117933e+00  5.82369277e+00  4.46259540e+00\n",
            "  2.47320794e+00  1.09577220e-01 -2.36575300e+00 -4.71261671e+00\n",
            " -6.72701769e+00 -8.25541575e+00 -9.18486120e+00 -9.46381505e+00\n",
            " -9.11085788e+00 -8.12875279e+00 -6.63306046e+00 -4.69271059e+00\n",
            " -2.44736165e+00 -2.05444585e-02  2.46101146e+00  4.86841760e+00\n",
            "  7.08937968e+00  9.02539126e+00  1.05948609e+01  1.17357250e+01\n",
            "  1.24068974e+01  1.25885805e+01  1.22815267e+01  1.15053927e+01\n",
            "  1.02963689e+01  8.70429550e+00  6.78948686e+00  4.61716636e+00\n",
            "  2.25853448e+00 -1.98731680e-01 -2.68040566e+00 -5.11543300e+00\n",
            " -7.41973991e+00 -9.53891040e+00 -1.14237629e+01 -1.29919305e+01\n",
            " -1.42355069e+01 -1.51243232e+01 -1.56061571e+01 -1.57219415e+01\n",
            " -1.54217066e+01 -1.47579136e+01 -1.37255236e+01 -1.23634834e+01\n",
            " -1.07024632e+01 -8.78327367e+00 -6.65029558e+00 -4.35514246e+00\n",
            " -1.94290275e+00  5.28038914e-01  3.00985904e+00  5.45450275e+00\n",
            "  7.80093594e+00  1.00179639e+01  1.20595602e+01  1.38732623e+01\n",
            "  1.54564938e+01  1.67497894e+01  1.77435802e+01  1.84439878e+01\n",
            "  1.87990820e+01  1.88271003e+01  1.85472755e+01  1.79378850e+01\n",
            "  1.70105456e+01  1.58085777e+01  1.43501808e+01  1.26222364e+01\n",
            "  1.06905445e+01  8.58498641e+00  6.33562529e+00  3.96179025e+00\n",
            "  1.51802643e+00 -9.61699044e-01 -3.44349301e+00 -5.88951759e+00\n",
            " -8.26006582e+00 -1.05270865e+01 -1.26610269e+01 -1.46343020e+01\n",
            " -1.64206033e+01 -1.79708499e+01 -1.92894561e+01 -2.03605967e+01\n",
            " -2.11716587e+01 -2.17133504e+01 -2.19797677e+01 -2.19626531e+01\n",
            " -2.16476737e+01 -2.10622561e+01 -2.02145809e+01 -1.91158467e+01\n",
            " -1.77800930e+01 -1.62239930e+01 -1.44666197e+01 -1.25291882e+01\n",
            " -1.04347777e+01 -8.20773276e+00 -5.86978851e+00 -3.45563299e+00\n",
            " -9.92556869e-01  1.49191203e+00  3.97031733e+00  6.41557503e+00\n",
            "  8.80126359e+00  1.11019001e+01  1.32931995e+01  1.53523150e+01\n",
            "  1.72580567e+01  1.89910866e+01  2.05340895e+01  2.18719167e+01\n",
            "  2.29917039e+01  2.38829603e+01  2.45376309e+01  2.49501314e+01\n",
            "  2.51173551e+01  2.50386548e+01  2.47157984e+01  2.41529019e+01\n",
            "  2.33563391e+01  2.23346314e+01  2.10983193e+01  1.96598169e+01\n",
            "  1.80332532e+01  1.62343003e+01  1.42799934e+01  1.21885425e+01\n",
            "  9.97914013e+00  7.67176574e+00  5.28699023e+00  2.84441658e+00\n",
            "  3.68190102e-01 -2.11846865e+00 -4.59426061e+00 -7.03829202e+00\n",
            " -9.43024209e+00 -1.17505186e+01 -1.39803999e+01 -1.61021634e+01\n",
            " -1.80991985e+01 -1.99561058e+01 -2.16587804e+01 -2.31850397e+01\n",
            " -2.45166960e+01 -2.56568097e+01 -2.65976904e+01 -2.73332424e+01\n",
            " -2.78589555e+01 -2.81718833e+01 -2.82706110e+01 -2.81552119e+01\n",
            " -2.78066635e+01 -2.72341677e+01 -2.64578863e+01 -2.54844118e+01\n",
            " -2.43214986e+01 -2.29779690e+01 -2.14636172e+01 -1.97837046e+01\n",
            " -1.79341987e+01 -1.59545785e+01 -1.38585628e+01 -1.16602783e+01\n",
            " -9.37416511e+00 -7.01488958e+00 -4.59184632e+00 -2.12995331e+00\n",
            "  3.50691071e-01  2.83498918e+00  5.30813450e+00  7.75565814e+00\n",
            "  1.01522531e+01  1.24813227e+01  1.47337756e+01  1.68973642e+01\n",
            "  1.89604991e+01  2.09071945e+01  2.26943693e+01  2.43420179e+01\n",
            "  2.58422998e+01  2.71881423e+01  2.83731992e+01  2.93376609e+01\n",
            "  3.01222558e+01  3.07280750e+01  3.11531219e+01  3.13960177e+01]\n",
            "[ 0.00000000e+00  1.74026724e+00  9.81816584e-01 -1.34251287e+00\n",
            " -3.53191891e+00 -4.70449474e+00 -4.59573427e+00 -3.33831870e+00\n",
            " -1.28956083e+00  1.14234685e+00  3.55645601e+00  5.62188218e+00\n",
            "  7.09389488e+00  7.82951803e+00  7.78700678e+00  6.99685666e+00\n",
            "  5.55535240e+00  3.60417006e+00  1.30506373e+00 -1.15819722e+00\n",
            " -3.61328132e+00 -5.89130465e+00 -7.87065053e+00 -9.41689057e+00\n",
            " -1.04714836e+01 -1.09903787e+01 -1.09354306e+01 -1.03330912e+01\n",
            " -9.22690166e+00 -7.67489830e+00 -5.75257980e+00 -3.54832201e+00\n",
            " -1.15854355e+00  1.31709956e+00  3.78023622e+00  6.13780326e+00\n",
            "  8.30540149e+00  1.02098724e+01  1.17910419e+01  1.29972950e+01\n",
            "  1.37774249e+01  1.41319792e+01  1.40585758e+01  1.35636816e+01\n",
            "  1.26345244e+01  1.13409083e+01  9.72216360e+00  7.79464305e+00\n",
            "  5.64544223e+00  3.32503222e+00  8.88107041e-01 -1.59329248e+00\n",
            " -4.05992507e+00 -6.45313746e+00 -8.71327144e+00 -1.07900854e+01\n",
            " -1.26380653e+01 -1.42147006e+01 -1.54892299e+01 -1.64390858e+01\n",
            " -1.70351433e+01 -1.72938948e+01 -1.71685631e+01 -1.67219979e+01\n",
            " -1.59044166e+01 -1.47824153e+01 -1.33665280e+01 -1.16678134e+01\n",
            " -9.75246391e+00 -7.63091465e+00 -5.35345831e+00 -2.96905840e+00\n",
            " -5.09631905e-01  1.97507060e+00  4.44430515e+00  6.85344809e+00\n",
            "  9.15903461e+00  1.13337844e+01  1.33467125e+01  1.51336120e+01\n",
            "  1.66966787e+01  1.80162922e+01  1.90746708e+01  1.98127969e+01\n",
            "  2.02634499e+01  2.04221761e+01  2.02877631e+01  1.98449702e+01\n",
            "  1.90974465e+01  1.80799531e+01  1.68069397e+01  1.52959771e+01\n",
            "  1.35665801e+01  1.16227312e+01  9.51601869e+00  7.27388893e+00\n",
            "  4.92519240e+00  2.49981337e+00  2.82932820e-02 -2.45817963e+00\n",
            " -4.92460367e+00 -7.34030894e+00 -9.67635928e+00 -1.19050601e+01\n",
            " -1.40002645e+01 -1.59376556e+01 -1.76950019e+01 -1.92523833e+01\n",
            " -2.05923861e+01 -2.16995543e+01 -2.25478860e+01 -2.31432552e+01\n",
            " -2.34800725e+01 -2.35556687e+01 -2.33702741e+01 -2.29269662e+01\n",
            " -2.22315865e+01 -2.12926288e+01 -2.01211000e+01 -1.87303570e+01\n",
            " -1.71359212e+01 -1.53552740e+01 -1.34076356e+01 -1.13137308e+01\n",
            " -9.09554383e+00 -6.77606668e+00 -4.37904252e+00 -1.92870828e+00\n",
            "  5.50461201e-01  3.03400451e+00  5.49771780e+00  7.91788934e+00\n",
            "  1.02715222e+01  1.25365431e+01  1.46919953e+01  1.67182148e+01\n",
            "  1.85969872e+01  2.03116866e+01  2.18473923e+01  2.31909872e+01\n",
            "  2.43312337e+01  2.52588296e+01  2.59664444e+01  2.64391214e+01\n",
            "  2.66748505e+01  2.66796333e+01  2.64545680e+01  2.60026765e+01\n",
            "  2.53288265e+01  2.44396400e+01  2.33433894e+01  2.20498837e+01\n",
            "  2.05703459e+01  1.89172843e+01  1.71043584e+01  1.51396391e+01\n",
            "  1.30387952e+01  1.08294252e+01  8.52903617e+00  6.15551380e+00\n",
            "  3.72697869e+00  1.26164946e+00 -1.22228693e+00 -3.70679651e+00\n",
            " -6.17014862e+00 -8.59028675e+00 -1.09516293e+01 -1.32379536e+01\n",
            " -1.54338179e+01 -1.75246263e+01 -1.94966815e+01 -2.13317519e+01\n",
            " -2.29952001e+01 -2.44987532e+01 -2.58335652e+01 -2.69919481e+01\n",
            " -2.79673583e+01 -2.87543764e+01 -2.93186910e+01 -2.96679958e+01\n",
            " -2.98181354e+01 -2.97693731e+01 -2.95229769e+01 -2.90811595e+01\n",
            " -2.84133854e+01 -2.75430665e+01 -2.64934034e+01 -2.52713717e+01\n",
            " -2.38845608e+01 -2.23353782e+01 -2.06051319e+01 -1.87442619e+01\n",
            " -1.67635423e+01 -1.46739620e+01 -1.24866789e+01 -1.01933401e+01\n",
            " -7.83474328e+00 -5.42495146e+00 -2.97607515e+00 -5.00072086e-01]\n"
          ]
        }
      ],
      "source": [
        "phi = np.arange(0, 10*np.pi, 0.1)\n",
        "a = 1\n",
        "X = a*phi*np.cos(phi)\n",
        "Y = a*phi*np.sin(phi)\n",
        "print(X)\n",
        "print(Y)\n",
        "dr = (np.diff(X)**2 + np.diff(Y)**2)**.5 # segment lengths\n",
        "r = np.zeros_like(X)\n",
        "r[1:] = np.cumsum(dr)                # integrate path\n",
        "r_int = np.linspace(0, r.max(), 200) # regular spaced path\n",
        "x_int = np.interp(r_int, r, X)       # integrate path\n",
        "y_int = np.interp(r_int, r, Y)\n",
        "print(x_int)\n",
        "print(y_int)"
      ]
    },
    {
      "cell_type": "markdown",
      "metadata": {
        "id": "E9OZavbGBq7E"
      },
      "source": [
        "#### 99. Given an integer n and a 2D array X, select from X the rows which can be interpreted as draws from a multinomial distribution with n degrees, i.e., the rows which only contain integers and which sum to n. (★★★) \n",
        "(**hint**: np.logical\\_and.reduce, np.mod)"
      ]
    },
    {
      "cell_type": "code",
      "execution_count": null,
      "metadata": {
        "id": "cmstjqTJBq7F",
        "colab": {
          "base_uri": "https://localhost:8080/"
        },
        "outputId": "ce64afd7-8149-4fb3-b6d2-39d6e6ff002c"
      },
      "outputs": [
        {
          "output_type": "stream",
          "name": "stdout",
          "text": [
            "[[2. 0. 1. 1.]]\n"
          ]
        }
      ],
      "source": [
        "X = np.asarray([[1.0, 0.0, 3.0, 8.0],\n",
        "                [2.0, 0.0, 1.0, 1.0],\n",
        "                [1.5, 2.5, 1.0, 0.0]])\n",
        "n = 4\n",
        "M = np.logical_and.reduce(np.mod(X, 1) == 0, axis=-1)\n",
        "M &= (X.sum(axis=-1) == n)\n",
        "print(X[M])"
      ]
    },
    {
      "cell_type": "markdown",
      "metadata": {
        "id": "fU7x8xbrBq7F"
      },
      "source": [
        "#### 100. Compute bootstrapped 95% confidence intervals for the mean of a 1D array X (i.e., resample the elements of an array with replacement N times, compute the mean of each sample, and then compute percentiles over the means). (★★★) \n",
        "(**hint**: np.percentile)"
      ]
    },
    {
      "cell_type": "code",
      "execution_count": null,
      "metadata": {
        "id": "K61eiqRBBq7F",
        "colab": {
          "base_uri": "https://localhost:8080/"
        },
        "outputId": "7e13eaa1-c9d8-481c-8a87-a016b0d0e763"
      },
      "outputs": [
        {
          "output_type": "stream",
          "name": "stdout",
          "text": [
            "[-0.05939981  0.30611895]\n"
          ]
        }
      ],
      "source": [
        "X = np.random.randn(100) # random 1D array\n",
        "N = 1000 # number of bootstrap samples\n",
        "idx = np.random.randint(0, X.size, (N, X.size))\n",
        "means = X[idx].mean(axis=1)\n",
        "confint = np.percentile(means, [2.5, 97.5])\n",
        "print(confint)"
      ]
    }
  ],
  "metadata": {
    "kernelspec": {
      "display_name": "Python 3",
      "language": "python",
      "name": "python3"
    },
    "language_info": {
      "codemirror_mode": {
        "name": "ipython",
        "version": 3
      },
      "file_extension": ".py",
      "mimetype": "text/x-python",
      "name": "python",
      "nbconvert_exporter": "python",
      "pygments_lexer": "ipython3",
      "version": "3.8.3"
    },
    "colab": {
      "name": "Copy of Numpy_tasks.ipynb",
      "provenance": [],
      "collapsed_sections": [],
      "include_colab_link": true
    }
  },
  "nbformat": 4,
  "nbformat_minor": 0
}